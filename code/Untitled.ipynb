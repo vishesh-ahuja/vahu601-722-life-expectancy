{
 "cells": [
  {
   "cell_type": "code",
   "execution_count": 1,
   "metadata": {},
   "outputs": [],
   "source": [
    "\n",
    "# Must be included at the beginning of each new notebook. Remember to change the app name.\n",
    "import findspark\n",
    "findspark.init('/home/ubuntu/spark-2.1.1-bin-hadoop2.7')\n",
    "import pyspark\n",
    "from pyspark.sql import SparkSession\n",
    "spark = SparkSession.builder.appName('life-expectancy-722').getOrCreate()"
   ]
  },
  {
   "cell_type": "code",
   "execution_count": 19,
   "metadata": {},
   "outputs": [
    {
     "name": "stdout",
     "output_type": "stream",
     "text": [
      "root\n",
      " |-- Country: string (nullable = true)\n",
      " |-- Year: integer (nullable = true)\n",
      " |-- Life expectancy : double (nullable = true)\n",
      " |-- Adult Mortality: double (nullable = true)\n",
      " |-- infant deaths: double (nullable = true)\n",
      " |-- Hepatitis B: double (nullable = true)\n",
      " |-- Measles: double (nullable = true)\n",
      " |--  BMI : double (nullable = true)\n",
      " |-- under-five deaths: double (nullable = true)\n",
      " |-- Polio: double (nullable = true)\n",
      " |-- Diphtheria: double (nullable = true)\n",
      " |--  HIV/AIDS: double (nullable = true)\n",
      " |--  thinness  1-19 years: double (nullable = true)\n",
      " |--  thinness 5-9 years: double (nullable = true)\n",
      "\n"
     ]
    }
   ],
   "source": [
    "from pyspark.sql.types import (StructField,StringType,IntegerType,StructType, DoubleType)\n",
    "\n",
    "data_schema = [StructField('Country',StringType(),True),\n",
    "              StructField('Year',IntegerType(),True),\n",
    "              StructField('Life expectancy ', DoubleType(), True),\n",
    "              StructField('Adult Mortality', DoubleType(), True),\n",
    "              StructField('infant deaths', DoubleType(), True),\n",
    "              StructField('Hepatitis B', DoubleType(), True),\n",
    "              StructField('Measles', DoubleType(), True),\n",
    "              StructField(' BMI ', DoubleType(), True),\n",
    "              StructField('under-five deaths', DoubleType(), True),\n",
    "              StructField('Polio', DoubleType(), True),\n",
    "              StructField('Diphtheria', DoubleType(), True),\n",
    "              StructField(' HIV/AIDS', DoubleType(), True),\n",
    "              StructField(' thinness  1-19 years', DoubleType(), True),\n",
    "              StructField(' thinness 5-9 years', DoubleType(), True)]\n",
    "final_struct = StructType(fields=data_schema)\n",
    "df = spark.read.csv('../datasets/who-data.csv', header=\"true\", schema=final_struct)\n",
    "df.printSchema()"
   ]
  },
  {
   "cell_type": "code",
   "execution_count": 17,
   "metadata": {},
   "outputs": [
    {
     "name": "stdout",
     "output_type": "stream",
     "text": [
      "+---------------------+\n",
      "|avg(Life expectancy )|\n",
      "+---------------------+\n",
      "|    69.22493169398912|\n",
      "+---------------------+\n",
      "\n"
     ]
    }
   ],
   "source": [
    "df.createOrReplaceTempView('who')\n",
    "results = spark.sql(\"SELECT AVG(`Life expectancy `) FROM who\")\n",
    "results.show()"
   ]
  },
  {
   "cell_type": "code",
   "execution_count": 23,
   "metadata": {},
   "outputs": [
    {
     "name": "stdout",
     "output_type": "stream",
     "text": [
      "+-------+-----------------+\n",
      "|summary| Life expectancy |\n",
      "+-------+-----------------+\n",
      "|  count|              183|\n",
      "|   mean|66.75027322404374|\n",
      "| stddev|10.29552807176916|\n",
      "|    min|             39.0|\n",
      "|    max|             81.1|\n",
      "+-------+-----------------+\n",
      "\n"
     ]
    }
   ],
   "source": [
    "df.filter('Year = 2000').describe('Life expectancy ').show()"
   ]
  },
  {
   "cell_type": "code",
   "execution_count": 24,
   "metadata": {},
   "outputs": [
    {
     "name": "stdout",
     "output_type": "stream",
     "text": [
      "+-------+-----------------+\n",
      "|summary| Life expectancy |\n",
      "+-------+-----------------+\n",
      "|  count|              183|\n",
      "|   mean|71.61693989071036|\n",
      "| stddev|8.123706147645304|\n",
      "|    min|             51.0|\n",
      "|    max|             88.0|\n",
      "+-------+-----------------+\n",
      "\n"
     ]
    }
   ],
   "source": [
    "df.filter('Year = 2015').describe('Life expectancy ').show()"
   ]
  },
  {
   "cell_type": "code",
   "execution_count": null,
   "metadata": {},
   "outputs": [],
   "source": []
  }
 ],
 "metadata": {
  "kernelspec": {
   "display_name": "Python 3",
   "language": "python",
   "name": "python3"
  },
  "language_info": {
   "codemirror_mode": {
    "name": "ipython",
    "version": 3
   },
   "file_extension": ".py",
   "mimetype": "text/x-python",
   "name": "python",
   "nbconvert_exporter": "python",
   "pygments_lexer": "ipython3",
   "version": "3.5.2"
  }
 },
 "nbformat": 4,
 "nbformat_minor": 2
}
