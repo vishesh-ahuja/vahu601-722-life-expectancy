{
 "cells": [
  {
   "cell_type": "code",
   "execution_count": 1,
   "metadata": {},
   "outputs": [],
   "source": [
    "\n",
    "# Must be included at the beginning of each new notebook. Remember to change the app name.\n",
    "import findspark\n",
    "findspark.init('/home/ubuntu/spark-2.1.1-bin-hadoop2.7')\n",
    "import pyspark\n",
    "from pyspark.sql import SparkSession\n",
    "spark = SparkSession.builder.appName('life-expectancy-722').getOrCreate()"
   ]
  },
  {
   "cell_type": "code",
   "execution_count": 2,
   "metadata": {},
   "outputs": [
    {
     "name": "stdout",
     "output_type": "stream",
     "text": [
      "root\n",
      " |-- Country: string (nullable = true)\n",
      " |-- Year: integer (nullable = true)\n",
      " |-- Life expectancy : double (nullable = true)\n",
      " |-- Adult Mortality: double (nullable = true)\n",
      " |-- infant deaths: double (nullable = true)\n",
      " |-- Hepatitis B: double (nullable = true)\n",
      " |-- Measles: double (nullable = true)\n",
      " |--  BMI : double (nullable = true)\n",
      " |-- under-five deaths: double (nullable = true)\n",
      " |-- Polio: double (nullable = true)\n",
      " |-- Diphtheria: double (nullable = true)\n",
      " |--  HIV/AIDS: double (nullable = true)\n",
      " |--  thinness  1-19 years: double (nullable = true)\n",
      " |--  thinness 5-9 years: double (nullable = true)\n",
      "\n"
     ]
    }
   ],
   "source": [
    "from pyspark.sql.types import (StructField,StringType,IntegerType,StructType, DoubleType)\n",
    "\n",
    "data_schema = [StructField('Country',StringType(),True),\n",
    "              StructField('Year',IntegerType(),True),\n",
    "              StructField('Life expectancy ', DoubleType(), True),\n",
    "              StructField('Adult Mortality', DoubleType(), True),\n",
    "              StructField('infant deaths', DoubleType(), True),\n",
    "              StructField('Hepatitis B', DoubleType(), True),\n",
    "              StructField('Measles', DoubleType(), True),\n",
    "              StructField(' BMI ', DoubleType(), True),\n",
    "              StructField('under-five deaths', DoubleType(), True),\n",
    "              StructField('Polio', DoubleType(), True),\n",
    "              StructField('Diphtheria', DoubleType(), True),\n",
    "              StructField(' HIV/AIDS', DoubleType(), True),\n",
    "              StructField(' thinness  1-19 years', DoubleType(), True),\n",
    "              StructField(' thinness 5-9 years', DoubleType(), True)]\n",
    "final_struct = StructType(fields=data_schema)\n",
    "df = spark.read.csv('../datasets/who-data.csv', header=\"true\", schema=final_struct)\n",
    "df.printSchema()"
   ]
  },
  {
   "cell_type": "code",
   "execution_count": 3,
   "metadata": {},
   "outputs": [
    {
     "name": "stdout",
     "output_type": "stream",
     "text": [
      "                   Column         Mean  Standard Diviation   Min       Max\n",
      "0        Life expectancy     69.224932            9.523867  36.3      89.0\n",
      "1         Adult Mortality   164.796448          124.292079   1.0     723.0\n",
      "2           infant deaths    30.303948          117.926501   0.0    1800.0\n",
      "3             Hepatitis B    80.940461           25.070016   1.0      99.0\n",
      "4                 Measles  2419.592240        11467.272489   0.0  212183.0\n",
      "5                    BMI     38.321247           20.044034   1.0      87.3\n",
      "6       under-five deaths    42.035739          160.445548   0.0    2500.0\n",
      "7                   Polio    82.550188           23.428046   3.0      99.0\n",
      "8              Diphtheria    82.324084           23.716912   2.0      99.0\n",
      "9                HIV/AIDS     1.742103            5.077785   0.1      50.6\n",
      "10   thinness  1-19 years     4.839704            4.420195   0.1      27.7\n",
      "11     thinness 5-9 years     4.870317            4.508882   0.1      28.6\n"
     ]
    }
   ],
   "source": [
    "from pyspark.sql.functions import mean, stddev, min, max\n",
    "import pandas as pd\n",
    "\n",
    "columns = df.drop(*['Year', 'Country']).columns\n",
    "frame = pd.DataFrame(columns=['Column', 'Mean', 'Standard Diviation', 'Min', 'Max'])\n",
    "for col in columns:\n",
    "    dfMean = df.select(mean(df[col])).collect()\n",
    "    dfStd = df.select(stddev(df[col])).collect()\n",
    "    dfMin = df.select(min(df[col])).collect()\n",
    "    dfMax = df.select(max(df[col])).collect()\n",
    "    frame = frame.append({'Column': col, 'Mean': dfMean[0][0], 'Standard Diviation': dfStd[0][0], \n",
    "                          'Min': dfMin[0][0], 'Max': dfMax[0][0]}, ignore_index=True)\n",
    "\n",
    "print(frame)"
   ]
  },
  {
   "cell_type": "code",
   "execution_count": 4,
   "metadata": {},
   "outputs": [
    {
     "name": "stdout",
     "output_type": "stream",
     "text": [
      "+-------+-----------------+\n",
      "|summary| Life expectancy |\n",
      "+-------+-----------------+\n",
      "|  count|              183|\n",
      "|   mean|66.75027322404374|\n",
      "| stddev|10.29552807176916|\n",
      "|    min|             39.0|\n",
      "|    max|             81.1|\n",
      "+-------+-----------------+\n",
      "\n"
     ]
    }
   ],
   "source": [
    "df.filter('Year = 2000').describe('Life expectancy ').show()"
   ]
  },
  {
   "cell_type": "code",
   "execution_count": 5,
   "metadata": {},
   "outputs": [
    {
     "name": "stdout",
     "output_type": "stream",
     "text": [
      "+-------+-----------------+\n",
      "|summary| Life expectancy |\n",
      "+-------+-----------------+\n",
      "|  count|              183|\n",
      "|   mean|71.61693989071036|\n",
      "| stddev|8.123706147645304|\n",
      "|    min|             51.0|\n",
      "|    max|             88.0|\n",
      "+-------+-----------------+\n",
      "\n"
     ]
    }
   ],
   "source": [
    "df.filter('Year = 2015').describe('Life expectancy ').show()"
   ]
  },
  {
   "cell_type": "code",
   "execution_count": 6,
   "metadata": {},
   "outputs": [
    {
     "name": "stdout",
     "output_type": "stream",
     "text": [
      "+-------+----+----------------+---------------+-------------+-----------+-------+-----+-----------------+-----+----------+---------+---------------------+-------------------+\n",
      "|Country|Year|Life expectancy |Adult Mortality|infant deaths|Hepatitis B|Measles| BMI |under-five deaths|Polio|Diphtheria| HIV/AIDS| thinness  1-19 years| thinness 5-9 years|\n",
      "+-------+----+----------------+---------------+-------------+-----------+-------+-----+-----------------+-----+----------+---------+---------------------+-------------------+\n",
      "|      0|   0|              10|             10|            0|        553|      0|   34|                0|   19|        19|        0|                   34|                 34|\n",
      "+-------+----+----------------+---------------+-------------+-----------+-------+-----+-----------------+-----+----------+---------+---------------------+-------------------+\n",
      "\n"
     ]
    }
   ],
   "source": [
    "from pyspark.sql.functions import isnan, when, count, col\n",
    "df.select([count(when(isnan(c) | col(c).isNull(), c)).alias(c) for c in df.columns]).show()\n"
   ]
  },
  {
   "cell_type": "code",
   "execution_count": 7,
   "metadata": {},
   "outputs": [
    {
     "name": "stdout",
     "output_type": "stream",
     "text": [
      "root\n",
      " |-- Country: string (nullable = true)\n",
      " |-- Year: integer (nullable = true)\n",
      " |-- Status: string (nullable = true)\n",
      " |-- Alcohol: double (nullable = true)\n",
      " |-- percentage expenditure: double (nullable = true)\n",
      " |-- Total expenditure: double (nullable = true)\n",
      " |-- GDP: double (nullable = true)\n",
      " |-- Population: double (nullable = true)\n",
      " |-- Income composition of resources: double (nullable = true)\n",
      " |-- Schooling: double (nullable = true)\n",
      "\n"
     ]
    }
   ],
   "source": [
    "data_schema = [StructField('Country',StringType(),True),\n",
    "              StructField('Year',IntegerType(),True),\n",
    "              StructField('Status', StringType(), True),\n",
    "              StructField('Alcohol', DoubleType(), True),\n",
    "              StructField('percentage expenditure', DoubleType(), True),\n",
    "              StructField('Total expenditure', DoubleType(), True),\n",
    "              StructField('GDP', DoubleType(), True),\n",
    "              StructField('Population', DoubleType(), True),\n",
    "              StructField('Income composition of resources', DoubleType(), True),\n",
    "              StructField('Schooling', DoubleType(), True)]\n",
    "final_struct = StructType(fields=data_schema)\n",
    "df2 = spark.read.csv('../datasets/UN Data.csv', header=\"true\", schema=final_struct)\n",
    "df2.printSchema()"
   ]
  },
  {
   "cell_type": "code",
   "execution_count": 8,
   "metadata": {
    "scrolled": true
   },
   "outputs": [
    {
     "name": "stdout",
     "output_type": "stream",
     "text": [
      "+-----------+----+----------+-------+----------------------+-----------------+-----------+-----------+-------------------------------+---------+\n",
      "|    Country|Year|    Status|Alcohol|percentage expenditure|Total expenditure|        GDP| Population|Income composition of resources|Schooling|\n",
      "+-----------+----+----------+-------+----------------------+-----------------+-----------+-----------+-------------------------------+---------+\n",
      "|Afghanistan|2015|Developing|   0.01|           71.27962362|             8.16|  584.25921|3.3736494E7|                          0.479|     10.1|\n",
      "|Afghanistan|2014|Developing|   0.01|           73.52358168|             8.18| 612.696514|   327582.0|                          0.476|     10.0|\n",
      "|Afghanistan|2013|Developing|   0.01|           73.21924272|             8.13| 631.744976|3.1731688E7|                           0.47|      9.9|\n",
      "|Afghanistan|2012|Developing|   0.01|            78.1842153|             8.52|    669.959|  3696958.0|                          0.463|      9.8|\n",
      "|Afghanistan|2011|Developing|   0.01|           7.097108703|             7.87|  63.537231|  2978599.0|                          0.454|      9.5|\n",
      "|Afghanistan|2010|Developing|   0.01|           79.67936736|              9.2|  553.32894|  2883167.0|                          0.448|      9.2|\n",
      "|Afghanistan|2009|Developing|   0.01|           56.76221682|             9.42|445.8932979|   284331.0|                          0.434|      8.9|\n",
      "|Afghanistan|2008|Developing|   0.03|           25.87392536|             8.33|373.3611163|  2729431.0|                          0.433|      8.7|\n",
      "|Afghanistan|2007|Developing|   0.02|           10.91015598|             6.73| 369.835796|2.6616792E7|                          0.415|      8.4|\n",
      "|Afghanistan|2006|Developing|   0.03|           17.17151751|             7.43|  272.56377|  2589345.0|                          0.405|      8.1|\n",
      "|Afghanistan|2005|Developing|   0.02|           1.388647732|              8.7| 25.2941299|   257798.0|                          0.396|      7.9|\n",
      "|Afghanistan|2004|Developing|   0.02|           15.29606643|             8.79|219.1413528|2.4118979E7|                          0.381|      6.8|\n",
      "|Afghanistan|2003|Developing|   0.01|           11.08905273|             8.82|198.7285436|  2364851.0|                          0.373|      6.5|\n",
      "|Afghanistan|2002|Developing|   0.01|           16.88735091|             7.76|  187.84595|2.1979923E7|                          0.341|      6.2|\n",
      "|Afghanistan|2001|Developing|   0.01|            10.5747282|              7.8|  117.49698|  2966463.0|                           0.34|      5.9|\n",
      "|Afghanistan|2000|Developing|   0.01|              10.42496|              8.2|     114.56|   293756.0|                          0.338|      5.5|\n",
      "|    Albania|2015|Developing|    4.6|           364.9752287|              6.0| 3954.22783|    28873.0|                          0.762|     14.2|\n",
      "|    Albania|2014|Developing|   4.51|           428.7490668|             5.88|4575.763787|   288914.0|                          0.761|     14.2|\n",
      "|    Albania|2013|Developing|   4.76|           430.8769785|             5.66| 4414.72314|   289592.0|                          0.759|     14.2|\n",
      "|    Albania|2012|Developing|   5.14|           412.4433563|             5.59| 4247.61438|     2941.0|                          0.752|     14.2|\n",
      "+-----------+----+----------+-------+----------------------+-----------------+-----------+-----------+-------------------------------+---------+\n",
      "only showing top 20 rows\n",
      "\n"
     ]
    }
   ],
   "source": [
    "df2.show()"
   ]
  },
  {
   "cell_type": "code",
   "execution_count": 9,
   "metadata": {},
   "outputs": [
    {
     "name": "stdout",
     "output_type": "stream",
     "text": [
      "                            Column          Mean  Standard Diviation  \\\n",
      "0                          Alcohol  4.602861e+00        4.052413e+00   \n",
      "1           percentage expenditure  7.382513e+02        1.987915e+03   \n",
      "2                Total expenditure  5.938190e+00        2.498320e+00   \n",
      "3                              GDP  7.483158e+03        1.427017e+04   \n",
      "4                       Population  1.275338e+07        6.101210e+07   \n",
      "5  Income composition of resources  6.275511e-01        2.109036e-01   \n",
      "6                        Schooling  1.199279e+01        3.358920e+00   \n",
      "\n",
      "        Min           Max  \n",
      "0   0.01000  1.787000e+01  \n",
      "1   0.00000  1.947991e+04  \n",
      "2   0.37000  1.760000e+01  \n",
      "3   1.68135  1.191727e+05  \n",
      "4  34.00000  1.293859e+09  \n",
      "5   0.00000  9.480000e-01  \n",
      "6   0.00000  2.070000e+01  \n"
     ]
    }
   ],
   "source": [
    "columns = df2.drop(*['Year', 'Country', 'Status']).columns\n",
    "frame = pd.DataFrame(columns=['Column', 'Mean', 'Standard Diviation', 'Min', 'Max'])\n",
    "for col in columns:\n",
    "    dfMean = df2.select(mean(df2[col])).collect()\n",
    "    dfStd = df2.select(stddev(df2[col])).collect()\n",
    "    dfMin = df2.select(min(df2[col])).collect()\n",
    "    dfMax = df2.select(max(df2[col])).collect()\n",
    "    frame = frame.append({'Column': col, 'Mean': dfMean[0][0], 'Standard Diviation': dfStd[0][0], \n",
    "                          'Min': dfMin[0][0], 'Max': dfMax[0][0]}, ignore_index=True)\n",
    "\n",
    "print(frame)"
   ]
  },
  {
   "cell_type": "code",
   "execution_count": 10,
   "metadata": {},
   "outputs": [
    {
     "name": "stdout",
     "output_type": "stream",
     "text": [
      "##############\n",
      "Life expectancy \n",
      "                   Column     Coeff Category\n",
      "0         Adult Mortality -0.609053     Weak\n",
      "1           infant deaths -0.175069     Weak\n",
      "2             Hepatitis B  0.220782     Weak\n",
      "3                 Measles -0.140250     Weak\n",
      "4                    BMI   0.507116     Weak\n",
      "5       under-five deaths -0.198861     Weak\n",
      "6                   Polio  0.427613     Weak\n",
      "7              Diphtheria  0.439868     Weak\n",
      "8                HIV/AIDS -0.504904     Weak\n",
      "9    thinness  1-19 years -0.397560     Weak\n",
      "10     thinness 5-9 years -0.392858     Weak\n",
      "##############\n",
      "Adult Mortality\n",
      "                   Column     Coeff Category\n",
      "0        Life expectancy  -0.609053     Weak\n",
      "1           infant deaths  0.079671     Weak\n",
      "2             Hepatitis B -0.136102     Weak\n",
      "3                 Measles  0.032032     Weak\n",
      "4                    BMI  -0.397616     Weak\n",
      "5       under-five deaths  0.095036     Weak\n",
      "6                   Polio -0.280854     Weak\n",
      "7              Diphtheria -0.281226     Weak\n",
      "8                HIV/AIDS  0.523625     Weak\n",
      "9    thinness  1-19 years  0.288761     Weak\n",
      "10     thinness 5-9 years  0.294409     Weak\n",
      "##############\n",
      "infant deaths\n",
      "                   Column     Coeff Category\n",
      "0        Life expectancy  -0.175069     Weak\n",
      "1         Adult Mortality  0.079671     Weak\n",
      "2             Hepatitis B -0.139252     Weak\n",
      "3                 Measles  0.501128     Weak\n",
      "4                    BMI  -0.224995     Weak\n",
      "5       under-five deaths  0.996629   Strong\n",
      "6                   Polio -0.161685     Weak\n",
      "7              Diphtheria -0.166218     Weak\n",
      "8                HIV/AIDS  0.025231     Weak\n",
      "9    thinness  1-19 years  0.460979     Weak\n",
      "10     thinness 5-9 years  0.466683     Weak\n",
      "##############\n",
      "Hepatitis B\n",
      "                   Column     Coeff Category\n",
      "0        Life expectancy   0.220782     Weak\n",
      "1         Adult Mortality -0.136102     Weak\n",
      "2           infant deaths -0.139252     Weak\n",
      "3                 Measles -0.120372     Weak\n",
      "4                    BMI   0.182383     Weak\n",
      "5       under-five deaths -0.152917     Weak\n",
      "6                   Polio  0.420626     Weak\n",
      "7              Diphtheria  0.494625     Weak\n",
      "8                HIV/AIDS -0.124786     Weak\n",
      "9    thinness  1-19 years -0.073249     Weak\n",
      "10     thinness 5-9 years -0.075832     Weak\n",
      "##############\n",
      "Measles\n",
      "                   Column     Coeff Category\n",
      "0        Life expectancy  -0.140250     Weak\n",
      "1         Adult Mortality  0.032032     Weak\n",
      "2           infant deaths  0.501128     Weak\n",
      "3             Hepatitis B -0.120372     Weak\n",
      "4                    BMI  -0.170780     Weak\n",
      "5       under-five deaths  0.507809     Weak\n",
      "6                   Polio -0.126345     Weak\n",
      "7              Diphtheria -0.132058     Weak\n",
      "8                HIV/AIDS  0.030899     Weak\n",
      "9    thinness  1-19 years  0.224091     Weak\n",
      "10     thinness 5-9 years  0.220410     Weak\n",
      "##############\n",
      " BMI \n",
      "                   Column     Coeff Category\n",
      "0        Life expectancy   0.507116     Weak\n",
      "1         Adult Mortality -0.397616     Weak\n",
      "2           infant deaths -0.224995     Weak\n",
      "3             Hepatitis B  0.182383     Weak\n",
      "4                 Measles -0.170780     Weak\n",
      "5       under-five deaths -0.235946     Weak\n",
      "6                   Polio  0.296469     Weak\n",
      "7              Diphtheria  0.294750     Weak\n",
      "8                HIV/AIDS -0.239067     Weak\n",
      "9    thinness  1-19 years -0.493962     Weak\n",
      "10     thinness 5-9 years -0.501069     Weak\n",
      "##############\n",
      "under-five deaths\n",
      "                   Column     Coeff Category\n",
      "0        Life expectancy  -0.198861     Weak\n",
      "1         Adult Mortality  0.095036     Weak\n",
      "2           infant deaths  0.996629   Strong\n",
      "3             Hepatitis B -0.152917     Weak\n",
      "4                 Measles  0.507809     Weak\n",
      "5                    BMI  -0.235946     Weak\n",
      "6                   Polio -0.179404     Weak\n",
      "7              Diphtheria -0.186325     Weak\n",
      "8                HIV/AIDS  0.038062     Weak\n",
      "9    thinness  1-19 years  0.462538     Weak\n",
      "10     thinness 5-9 years  0.467090     Weak\n",
      "##############\n",
      "Polio\n",
      "                   Column     Coeff Category\n",
      "0        Life expectancy   0.427613     Weak\n",
      "1         Adult Mortality -0.280854     Weak\n",
      "2           infant deaths -0.161685     Weak\n",
      "3             Hepatitis B  0.420626     Weak\n",
      "4                 Measles -0.126345     Weak\n",
      "5                    BMI   0.296469     Weak\n",
      "6       under-five deaths -0.179404     Weak\n",
      "7              Diphtheria  0.697484     Weak\n",
      "8                HIV/AIDS -0.155407     Weak\n",
      "9    thinness  1-19 years -0.191103     Weak\n",
      "10     thinness 5-9 years -0.192173     Weak\n",
      "##############\n",
      "Diphtheria\n",
      "                   Column     Coeff Category\n",
      "0        Life expectancy   0.439868     Weak\n",
      "1         Adult Mortality -0.281226     Weak\n",
      "2           infant deaths -0.166218     Weak\n",
      "3             Hepatitis B  0.494625     Weak\n",
      "4                 Measles -0.132058     Weak\n",
      "5                    BMI   0.294750     Weak\n",
      "6       under-five deaths -0.186325     Weak\n",
      "7                   Polio  0.697484     Weak\n",
      "8                HIV/AIDS -0.160651     Weak\n",
      "9    thinness  1-19 years -0.199459     Weak\n",
      "10     thinness 5-9 years -0.193360     Weak\n",
      "##############\n",
      " HIV/AIDS\n",
      "                   Column     Coeff Category\n",
      "0        Life expectancy  -0.504904     Weak\n",
      "1         Adult Mortality  0.523625     Weak\n",
      "2           infant deaths  0.025231     Weak\n",
      "3             Hepatitis B -0.124786     Weak\n",
      "4                 Measles  0.030899     Weak\n",
      "5                    BMI  -0.239067     Weak\n",
      "6       under-five deaths  0.038062     Weak\n",
      "7                   Polio -0.155407     Weak\n",
      "8              Diphtheria -0.160651     Weak\n",
      "9    thinness  1-19 years  0.202223     Weak\n",
      "10     thinness 5-9 years  0.205460     Weak\n",
      "##############\n",
      " thinness  1-19 years\n",
      "                 Column     Coeff Category\n",
      "0      Life expectancy  -0.397560     Weak\n",
      "1       Adult Mortality  0.288761     Weak\n",
      "2         infant deaths  0.460979     Weak\n",
      "3           Hepatitis B -0.073249     Weak\n",
      "4               Measles  0.224091     Weak\n",
      "5                  BMI  -0.493962     Weak\n",
      "6     under-five deaths  0.462538     Weak\n",
      "7                 Polio -0.191103     Weak\n",
      "8            Diphtheria -0.199459     Weak\n",
      "9              HIV/AIDS  0.202223     Weak\n",
      "10   thinness 5-9 years  0.939923   Strong\n",
      "##############\n",
      " thinness 5-9 years\n",
      "                   Column     Coeff Category\n",
      "0        Life expectancy  -0.392858     Weak\n",
      "1         Adult Mortality  0.294409     Weak\n",
      "2           infant deaths  0.466683     Weak\n",
      "3             Hepatitis B -0.075832     Weak\n",
      "4                 Measles  0.220410     Weak\n",
      "5                    BMI  -0.501069     Weak\n",
      "6       under-five deaths  0.467090     Weak\n",
      "7                   Polio -0.192173     Weak\n",
      "8              Diphtheria -0.193360     Weak\n",
      "9                HIV/AIDS  0.205460     Weak\n",
      "10   thinness  1-19 years  0.939923   Strong\n"
     ]
    }
   ],
   "source": [
    "from pyspark.sql.types import (StructField)\n",
    "import pandas as pd\n",
    "columns = df.drop(*['Year', 'Country']).columns\n",
    "for col1 in columns:\n",
    "    correlationMatrix = pd.DataFrame(columns=['Column', 'Coeff', 'Category'])\n",
    "    for col2 in columns:\n",
    "        if col1 != col2:\n",
    "            correlation = df.stat.corr(col1, col2)\n",
    "            cat = 'Strong' if abs(correlation) > 0.7 else 'Weak'\n",
    "            correlationMatrix = correlationMatrix.append({'Column': col2, 'Coeff': correlation, 'Category': cat}, ignore_index=True)\n",
    "    print('##############')\n",
    "    print(col1)\n",
    "    print(correlationMatrix)\n"
   ]
  },
  {
   "cell_type": "code",
   "execution_count": 11,
   "metadata": {},
   "outputs": [
    {
     "name": "stdout",
     "output_type": "stream",
     "text": [
      "['Country', 'Year', 'Life expectancy ', 'Adult Mortality', 'Hepatitis B', 'Measles', ' BMI ', 'under-five deaths', 'Polio', 'Diphtheria', ' HIV/AIDS', ' thinness  1-19 years']\n"
     ]
    }
   ],
   "source": [
    "df = df.drop(*['infant deaths', ' thinness 5-9 years'])\n",
    "print(df.columns)"
   ]
  },
  {
   "cell_type": "code",
   "execution_count": 12,
   "metadata": {
    "scrolled": true
   },
   "outputs": [],
   "source": [
    "df = df.na.drop(subset=\"Life expectancy \")"
   ]
  },
  {
   "cell_type": "code",
   "execution_count": 13,
   "metadata": {},
   "outputs": [],
   "source": [
    "from pyspark.sql.functions import mean\n",
    "meanHep = df.select(mean(df['Hepatitis B'])).collect()\n",
    "meanBMI = df.select(mean(df[' BMI '])).collect()\n",
    "meanPolio = df.select(mean(df['Polio'])).collect()\n",
    "meanDiph = df.select(mean(df['Diphtheria'])).collect()\n",
    "meanthin = df.select(mean(df[' thinness  1-19 years'])).collect()\n",
    "df = df.na.fill(meanHep[0][0], subset=['Hepatitis B'])\n",
    "df = df.na.fill(meanBMI[0][0], subset=[' BMI '])\n",
    "df = df.na.fill(meanPolio[0][0], subset=['Polio'])\n",
    "df = df.na.fill(meanDiph[0][0], subset=['Diphtheria'])\n",
    "df = df.na.fill(meanDiph[0][0], subset=[' thinness  1-19 years'])\n"
   ]
  },
  {
   "cell_type": "code",
   "execution_count": 14,
   "metadata": {},
   "outputs": [
    {
     "name": "stdout",
     "output_type": "stream",
     "text": [
      "['Country', 'Year', 'Life expectancy ', 'Adult Mortality', 'Hepatitis B', 'Measles', 'under-five deaths', 'Polio', 'Diphtheria', ' HIV/AIDS', ' thinness  1-19 years']\n"
     ]
    }
   ],
   "source": [
    "df = df.drop(*[' BMI '])\n",
    "print(df.columns)"
   ]
  },
  {
   "cell_type": "code",
   "execution_count": 15,
   "metadata": {},
   "outputs": [
    {
     "name": "stdout",
     "output_type": "stream",
     "text": [
      "['Country', 'Year', 'Life expectancy ', 'Adult Mortality', 'Hepatitis B', 'Measles', 'under-five deaths', 'Polio', 'Diphtheria', ' HIV/AIDS', ' thinness  1-19 years']\n",
      "['Country', 'Year', 'Status', 'Alcohol', 'percentage expenditure', 'Total expenditure', 'GDP', 'Population', 'Income composition of resources', 'Schooling']\n"
     ]
    }
   ],
   "source": [
    "print(df.columns)\n",
    "print(df2.columns)"
   ]
  },
  {
   "cell_type": "code",
   "execution_count": 16,
   "metadata": {},
   "outputs": [
    {
     "name": "stdout",
     "output_type": "stream",
     "text": [
      "+-----------+----+----------------+---------------+-----------+-------+-----------------+-----+----------+---------+---------------------+----------+-------+----------------------+-----------------+-----------+-----------+-------------------------------+---------+\n",
      "|    Country|Year|Life expectancy |Adult Mortality|Hepatitis B|Measles|under-five deaths|Polio|Diphtheria| HIV/AIDS| thinness  1-19 years|    Status|Alcohol|percentage expenditure|Total expenditure|        GDP| Population|Income composition of resources|Schooling|\n",
      "+-----------+----+----------------+---------------+-----------+-------+-----------------+-----+----------+---------+---------------------+----------+-------+----------------------+-----------------+-----------+-----------+-------------------------------+---------+\n",
      "|Afghanistan|2015|            65.0|          263.0|       65.0| 1154.0|             83.0|  6.0|      65.0|      0.1|                 17.2|Developing|   0.01|           71.27962362|             8.16|  584.25921|3.3736494E7|                          0.479|     10.1|\n",
      "|Afghanistan|2014|            59.9|          271.0|       62.0|  492.0|             86.0| 58.0|      62.0|      0.1|                 17.5|Developing|   0.01|           73.52358168|             8.18| 612.696514|   327582.0|                          0.476|     10.0|\n",
      "|Afghanistan|2013|            59.9|          268.0|       64.0|  430.0|             89.0| 62.0|      64.0|      0.1|                 17.7|Developing|   0.01|           73.21924272|             8.13| 631.744976|3.1731688E7|                           0.47|      9.9|\n",
      "|Afghanistan|2012|            59.5|          272.0|       67.0| 2787.0|             93.0| 67.0|      67.0|      0.1|                 17.9|Developing|   0.01|            78.1842153|             8.52|    669.959|  3696958.0|                          0.463|      9.8|\n",
      "|Afghanistan|2011|            59.2|          275.0|       68.0| 3013.0|             97.0| 68.0|      68.0|      0.1|                 18.2|Developing|   0.01|           7.097108703|             7.87|  63.537231|  2978599.0|                          0.454|      9.5|\n",
      "|Afghanistan|2010|            58.8|          279.0|       66.0| 1989.0|            102.0| 66.0|      66.0|      0.1|                 18.4|Developing|   0.01|           79.67936736|              9.2|  553.32894|  2883167.0|                          0.448|      9.2|\n",
      "|Afghanistan|2009|            58.6|          281.0|       63.0| 2861.0|            106.0| 63.0|      63.0|      0.1|                 18.6|Developing|   0.01|           56.76221682|             9.42|445.8932979|   284331.0|                          0.434|      8.9|\n",
      "|Afghanistan|2008|            58.1|          287.0|       64.0| 1599.0|            110.0| 64.0|      64.0|      0.1|                 18.8|Developing|   0.03|           25.87392536|             8.33|373.3611163|  2729431.0|                          0.433|      8.7|\n",
      "|Afghanistan|2007|            57.5|          295.0|       63.0| 1141.0|            113.0| 63.0|      63.0|      0.1|                 19.0|Developing|   0.02|           10.91015598|             6.73| 369.835796|2.6616792E7|                          0.415|      8.4|\n",
      "|Afghanistan|2006|            57.3|          295.0|       64.0| 1990.0|            116.0| 58.0|      58.0|      0.1|                 19.2|Developing|   0.03|           17.17151751|             7.43|  272.56377|  2589345.0|                          0.405|      8.1|\n",
      "|Afghanistan|2005|            57.3|          291.0|       66.0| 1296.0|            118.0| 58.0|      58.0|      0.1|                 19.3|Developing|   0.02|           1.388647732|              8.7| 25.2941299|   257798.0|                          0.396|      7.9|\n",
      "|Afghanistan|2004|            57.0|          293.0|       67.0|  466.0|            120.0|  5.0|       5.0|      0.1|                 19.5|Developing|   0.02|           15.29606643|             8.79|219.1413528|2.4118979E7|                          0.381|      6.8|\n",
      "|Afghanistan|2003|            56.7|          295.0|       65.0|  798.0|            122.0| 41.0|      41.0|      0.1|                 19.7|Developing|   0.01|           11.08905273|             8.82|198.7285436|  2364851.0|                          0.373|      6.5|\n",
      "|Afghanistan|2002|            56.2|            3.0|       64.0| 2486.0|            122.0| 36.0|      36.0|      0.1|                 19.9|Developing|   0.01|           16.88735091|             7.76|  187.84595|2.1979923E7|                          0.341|      6.2|\n",
      "|Afghanistan|2001|            55.3|          316.0|       63.0| 8762.0|            122.0| 35.0|      33.0|      0.1|                  2.1|Developing|   0.01|            10.5747282|              7.8|  117.49698|  2966463.0|                           0.34|      5.9|\n",
      "|Afghanistan|2000|            54.8|          321.0|       62.0| 6532.0|            122.0| 24.0|      24.0|      0.1|                  2.3|Developing|   0.01|              10.42496|              8.2|     114.56|   293756.0|                          0.338|      5.5|\n",
      "|    Albania|2015|            77.8|           74.0|       99.0|    0.0|              0.0| 99.0|      99.0|      0.1|                  1.2|Developing|    4.6|           364.9752287|              6.0| 3954.22783|    28873.0|                          0.762|     14.2|\n",
      "|    Albania|2014|            77.5|            8.0|       98.0|    0.0|              1.0| 98.0|      98.0|      0.1|                  1.2|Developing|   4.51|           428.7490668|             5.88|4575.763787|   288914.0|                          0.761|     14.2|\n",
      "|    Albania|2013|            77.2|           84.0|       99.0|    0.0|              1.0| 99.0|      99.0|      0.1|                  1.3|Developing|   4.76|           430.8769785|             5.66| 4414.72314|   289592.0|                          0.759|     14.2|\n",
      "|    Albania|2012|            76.9|           86.0|       99.0|    9.0|              1.0| 99.0|      99.0|      0.1|                  1.3|Developing|   5.14|           412.4433563|             5.59| 4247.61438|     2941.0|                          0.752|     14.2|\n",
      "+-----------+----+----------------+---------------+-----------+-------+-----------------+-----+----------+---------+---------------------+----------+-------+----------------------+-----------------+-----------+-----------+-------------------------------+---------+\n",
      "only showing top 20 rows\n",
      "\n"
     ]
    }
   ],
   "source": [
    "dfMerged = df.join(df2, ['Country', 'Year'], 'inner')\n",
    "dfMerged.show()"
   ]
  },
  {
   "cell_type": "code",
   "execution_count": 17,
   "metadata": {},
   "outputs": [
    {
     "name": "stdout",
     "output_type": "stream",
     "text": [
      "['Country', 'Year', 'Life expectancy ', 'Adult Mortality', 'Hepatitis B', 'Measles', 'under-five deaths', 'Polio', 'Diphtheria', ' HIV/AIDS', ' thinness  1-19 years', 'Status', 'Alcohol', 'percentage expenditure', 'Total expenditure', 'GDP', 'Population', 'Income composition of resources', 'Schooling']\n"
     ]
    }
   ],
   "source": [
    "print(dfMerged.columns)"
   ]
  },
  {
   "cell_type": "code",
   "execution_count": 18,
   "metadata": {},
   "outputs": [
    {
     "name": "stdout",
     "output_type": "stream",
     "text": [
      "##############\n",
      "Life expectancy \n",
      "                             Column     Coeff Category\n",
      "0                   Adult Mortality -0.690332     Weak\n",
      "1                       Hepatitis B  0.199664     Weak\n",
      "2                           Measles -0.159843     Weak\n",
      "3                 under-five deaths -0.221951     Weak\n",
      "4                             Polio  0.461302     Weak\n",
      "5                        Diphtheria  0.476581     Weak\n",
      "6                          HIV/AIDS -0.556661     Weak\n",
      "7              thinness  1-19 years -0.339114     Weak\n",
      "8                           Alcohol  0.370456     Weak\n",
      "9            percentage expenditure  0.382148     Weak\n",
      "10                Total expenditure  0.176434     Weak\n",
      "11                              GDP  0.428908     Weak\n",
      "12                       Population -0.032304     Weak\n",
      "13  Income composition of resources  0.589494     Weak\n",
      "14                        Schooling  0.574154     Weak\n",
      "##############\n",
      "Adult Mortality\n",
      "                             Column     Coeff Category\n",
      "0                  Life expectancy  -0.690332     Weak\n",
      "1                       Hepatitis B -0.132854     Weak\n",
      "2                           Measles  0.031987     Weak\n",
      "3                 under-five deaths  0.092200     Weak\n",
      "4                             Polio -0.269043     Weak\n",
      "5                        Diphtheria -0.271160     Weak\n",
      "6                          HIV/AIDS  0.523991     Weak\n",
      "7              thinness  1-19 years  0.240966     Weak\n",
      "8                           Alcohol -0.184817     Weak\n",
      "9            percentage expenditure -0.241981     Weak\n",
      "10                Total expenditure -0.105853     Weak\n",
      "11                              GDP -0.280360     Weak\n",
      "12                       Population -0.002503     Weak\n",
      "13  Income composition of resources -0.379235     Weak\n",
      "14                        Schooling -0.354574     Weak\n",
      "##############\n",
      "Hepatitis B\n",
      "                             Column     Coeff Category\n",
      "0                  Life expectancy   0.199664     Weak\n",
      "1                   Adult Mortality -0.132854     Weak\n",
      "2                           Measles -0.091021     Weak\n",
      "3                 under-five deaths -0.185159     Weak\n",
      "4                             Polio  0.403473     Weak\n",
      "5                        Diphtheria  0.496390     Weak\n",
      "6                          HIV/AIDS -0.101005     Weak\n",
      "7              thinness  1-19 years -0.069491     Weak\n",
      "8                           Alcohol  0.066538     Weak\n",
      "9            percentage expenditure  0.010593     Weak\n",
      "10                Total expenditure  0.043895     Weak\n",
      "11                              GDP  0.056355     Weak\n",
      "12                       Population -0.122918     Weak\n",
      "13  Income composition of resources  0.115449     Weak\n",
      "14                        Schooling  0.117005     Weak\n",
      "##############\n",
      "Measles\n",
      "                             Column     Coeff Category\n",
      "0                  Life expectancy  -0.159843     Weak\n",
      "1                   Adult Mortality  0.031987     Weak\n",
      "2                       Hepatitis B -0.091021     Weak\n",
      "3                 under-five deaths  0.507958     Weak\n",
      "4                             Polio -0.136470     Weak\n",
      "5                        Diphtheria -0.142571     Weak\n",
      "6                          HIV/AIDS  0.030600     Weak\n",
      "7              thinness  1-19 years  0.101781     Weak\n",
      "8                           Alcohol -0.043563     Weak\n",
      "9            percentage expenditure -0.056987     Weak\n",
      "10                Total expenditure -0.075884     Weak\n",
      "11                              GDP -0.069815     Weak\n",
      "12                       Population  0.237066     Weak\n",
      "13  Income composition of resources -0.146170     Weak\n",
      "14                        Schooling -0.152797     Weak\n",
      "##############\n",
      "under-five deaths\n",
      "                             Column     Coeff Category\n",
      "0                  Life expectancy  -0.221951     Weak\n",
      "1                   Adult Mortality  0.092200     Weak\n",
      "2                       Hepatitis B -0.185159     Weak\n",
      "3                           Measles  0.507958     Weak\n",
      "4                             Polio -0.188775     Weak\n",
      "5                        Diphtheria -0.195706     Weak\n",
      "6                          HIV/AIDS  0.036893     Weak\n",
      "7              thinness  1-19 years  0.239835     Weak\n",
      "8                           Alcohol -0.102473     Weak\n",
      "9            percentage expenditure -0.087637     Weak\n",
      "10                Total expenditure -0.099268     Weak\n",
      "11                              GDP -0.103976     Weak\n",
      "12                       Population  0.539767     Weak\n",
      "13  Income composition of resources -0.153860     Weak\n",
      "14                        Schooling -0.184868     Weak\n",
      "##############\n",
      "Polio\n",
      "                             Column     Coeff Category\n",
      "0                  Life expectancy   0.461302     Weak\n",
      "1                   Adult Mortality -0.269043     Weak\n",
      "2                       Hepatitis B  0.403473     Weak\n",
      "3                           Measles -0.136470     Weak\n",
      "4                 under-five deaths -0.188775     Weak\n",
      "5                        Diphtheria  0.673836     Weak\n",
      "6                          HIV/AIDS -0.157458     Weak\n",
      "7              thinness  1-19 years -0.149941     Weak\n",
      "8                           Alcohol  0.205467     Weak\n",
      "9            percentage expenditure  0.146826     Weak\n",
      "10                Total expenditure  0.128888     Weak\n",
      "11                              GDP  0.189232     Weak\n",
      "12                       Population -0.046564     Weak\n",
      "13  Income composition of resources  0.308575     Weak\n",
      "14                        Schooling  0.313657     Weak\n",
      "##############\n",
      "Diphtheria\n",
      "                             Column     Coeff Category\n",
      "0                  Life expectancy   0.476581     Weak\n",
      "1                   Adult Mortality -0.271160     Weak\n",
      "2                       Hepatitis B  0.496390     Weak\n",
      "3                           Measles -0.142571     Weak\n",
      "4                 under-five deaths -0.195706     Weak\n",
      "5                             Polio  0.673836     Weak\n",
      "6                          HIV/AIDS -0.163955     Weak\n",
      "7              thinness  1-19 years -0.150595     Weak\n",
      "8                           Alcohol  0.202465     Weak\n",
      "9            percentage expenditure  0.143205     Weak\n",
      "10                Total expenditure  0.141892     Weak\n",
      "11                              GDP  0.182275     Weak\n",
      "12                       Population -0.034302     Weak\n",
      "13  Income composition of resources  0.345173     Weak\n",
      "14                        Schooling  0.342903     Weak\n",
      "##############\n",
      " HIV/AIDS\n",
      "                             Column     Coeff Category\n",
      "0                  Life expectancy  -0.556661     Weak\n",
      "1                   Adult Mortality  0.523991     Weak\n",
      "2                       Hepatitis B -0.101005     Weak\n",
      "3                           Measles  0.030600     Weak\n",
      "4                 under-five deaths  0.036893     Weak\n",
      "5                             Polio -0.157458     Weak\n",
      "6                        Diphtheria -0.163955     Weak\n",
      "7              thinness  1-19 years  0.101119     Weak\n",
      "8                           Alcohol -0.034528     Weak\n",
      "9            percentage expenditure -0.097210     Weak\n",
      "10                Total expenditure  0.029692     Weak\n",
      "11                              GDP -0.117614     Weak\n",
      "12                       Population -0.015488     Weak\n",
      "13  Income composition of resources -0.192693     Weak\n",
      "14                        Schooling -0.156854     Weak\n",
      "##############\n",
      " thinness  1-19 years\n",
      "                             Column     Coeff Category\n",
      "0                  Life expectancy  -0.339114     Weak\n",
      "1                   Adult Mortality  0.240966     Weak\n",
      "2                       Hepatitis B -0.069491     Weak\n",
      "3                           Measles  0.101781     Weak\n",
      "4                 under-five deaths  0.239835     Weak\n",
      "5                             Polio -0.149941     Weak\n",
      "6                        Diphtheria -0.150595     Weak\n",
      "7                          HIV/AIDS  0.101119     Weak\n",
      "8                           Alcohol -0.273217     Weak\n",
      "9            percentage expenditure -0.152528     Weak\n",
      "10                Total expenditure -0.187835     Weak\n",
      "11                              GDP -0.164206     Weak\n",
      "12                       Population  0.114972     Weak\n",
      "13  Income composition of resources -0.267915     Weak\n",
      "14                        Schooling -0.321995     Weak\n",
      "##############\n",
      "Alcohol\n",
      "                             Column     Coeff Category\n",
      "0                  Life expectancy   0.370456     Weak\n",
      "1                   Adult Mortality -0.184817     Weak\n",
      "2                       Hepatitis B  0.066538     Weak\n",
      "3                           Measles -0.043563     Weak\n",
      "4                 under-five deaths -0.102473     Weak\n",
      "5                             Polio  0.205467     Weak\n",
      "6                        Diphtheria  0.202465     Weak\n",
      "7                          HIV/AIDS -0.034528     Weak\n",
      "8              thinness  1-19 years -0.273217     Weak\n",
      "9            percentage expenditure  0.352938     Weak\n",
      "10                Total expenditure  0.398032     Weak\n",
      "11                              GDP  0.300915     Weak\n",
      "12                       Population -0.024456     Weak\n",
      "13  Income composition of resources  0.270797     Weak\n",
      "14                        Schooling  0.308708     Weak\n"
     ]
    },
    {
     "ename": "KeyboardInterrupt",
     "evalue": "",
     "output_type": "error",
     "traceback": [
      "\u001b[0;31m---------------------------------------------------------------------------\u001b[0m",
      "\u001b[0;31mKeyboardInterrupt\u001b[0m                         Traceback (most recent call last)",
      "\u001b[0;32m<ipython-input-18-33f70635faba>\u001b[0m in \u001b[0;36m<module>\u001b[0;34m()\u001b[0m\n\u001b[1;32m      4\u001b[0m     \u001b[0;32mfor\u001b[0m \u001b[0mcol2\u001b[0m \u001b[0;32min\u001b[0m \u001b[0mcolumns\u001b[0m\u001b[0;34m:\u001b[0m\u001b[0;34m\u001b[0m\u001b[0m\n\u001b[1;32m      5\u001b[0m         \u001b[0;32mif\u001b[0m \u001b[0mcol1\u001b[0m \u001b[0;34m!=\u001b[0m \u001b[0mcol2\u001b[0m\u001b[0;34m:\u001b[0m\u001b[0;34m\u001b[0m\u001b[0m\n\u001b[0;32m----> 6\u001b[0;31m             \u001b[0mcorrelation\u001b[0m \u001b[0;34m=\u001b[0m \u001b[0mdfMerged\u001b[0m\u001b[0;34m.\u001b[0m\u001b[0mstat\u001b[0m\u001b[0;34m.\u001b[0m\u001b[0mcorr\u001b[0m\u001b[0;34m(\u001b[0m\u001b[0mcol1\u001b[0m\u001b[0;34m,\u001b[0m \u001b[0mcol2\u001b[0m\u001b[0;34m)\u001b[0m\u001b[0;34m\u001b[0m\u001b[0m\n\u001b[0m\u001b[1;32m      7\u001b[0m             \u001b[0mcat\u001b[0m \u001b[0;34m=\u001b[0m \u001b[0;34m'Strong'\u001b[0m \u001b[0;32mif\u001b[0m \u001b[0mabs\u001b[0m\u001b[0;34m(\u001b[0m\u001b[0mcorrelation\u001b[0m\u001b[0;34m)\u001b[0m \u001b[0;34m>\u001b[0m \u001b[0;36m0.7\u001b[0m \u001b[0;32melse\u001b[0m \u001b[0;34m'Weak'\u001b[0m\u001b[0;34m\u001b[0m\u001b[0m\n\u001b[1;32m      8\u001b[0m             \u001b[0mcorrelationMatrix\u001b[0m \u001b[0;34m=\u001b[0m \u001b[0mcorrelationMatrix\u001b[0m\u001b[0;34m.\u001b[0m\u001b[0mappend\u001b[0m\u001b[0;34m(\u001b[0m\u001b[0;34m{\u001b[0m\u001b[0;34m'Column'\u001b[0m\u001b[0;34m:\u001b[0m \u001b[0mcol2\u001b[0m\u001b[0;34m,\u001b[0m \u001b[0;34m'Coeff'\u001b[0m\u001b[0;34m:\u001b[0m \u001b[0mcorrelation\u001b[0m\u001b[0;34m,\u001b[0m \u001b[0;34m'Category'\u001b[0m\u001b[0;34m:\u001b[0m \u001b[0mcat\u001b[0m\u001b[0;34m}\u001b[0m\u001b[0;34m,\u001b[0m \u001b[0mignore_index\u001b[0m\u001b[0;34m=\u001b[0m\u001b[0;32mTrue\u001b[0m\u001b[0;34m)\u001b[0m\u001b[0;34m\u001b[0m\u001b[0m\n",
      "\u001b[0;32m~/spark-2.1.1-bin-hadoop2.7/python/pyspark/sql/dataframe.py\u001b[0m in \u001b[0;36mcorr\u001b[0;34m(self, col1, col2, method)\u001b[0m\n\u001b[1;32m   1652\u001b[0m \u001b[0;34m\u001b[0m\u001b[0m\n\u001b[1;32m   1653\u001b[0m     \u001b[0;32mdef\u001b[0m \u001b[0mcorr\u001b[0m\u001b[0;34m(\u001b[0m\u001b[0mself\u001b[0m\u001b[0;34m,\u001b[0m \u001b[0mcol1\u001b[0m\u001b[0;34m,\u001b[0m \u001b[0mcol2\u001b[0m\u001b[0;34m,\u001b[0m \u001b[0mmethod\u001b[0m\u001b[0;34m=\u001b[0m\u001b[0;32mNone\u001b[0m\u001b[0;34m)\u001b[0m\u001b[0;34m:\u001b[0m\u001b[0;34m\u001b[0m\u001b[0m\n\u001b[0;32m-> 1654\u001b[0;31m         \u001b[0;32mreturn\u001b[0m \u001b[0mself\u001b[0m\u001b[0;34m.\u001b[0m\u001b[0mdf\u001b[0m\u001b[0;34m.\u001b[0m\u001b[0mcorr\u001b[0m\u001b[0;34m(\u001b[0m\u001b[0mcol1\u001b[0m\u001b[0;34m,\u001b[0m \u001b[0mcol2\u001b[0m\u001b[0;34m,\u001b[0m \u001b[0mmethod\u001b[0m\u001b[0;34m)\u001b[0m\u001b[0;34m\u001b[0m\u001b[0m\n\u001b[0m\u001b[1;32m   1655\u001b[0m \u001b[0;34m\u001b[0m\u001b[0m\n\u001b[1;32m   1656\u001b[0m     \u001b[0mcorr\u001b[0m\u001b[0;34m.\u001b[0m\u001b[0m__doc__\u001b[0m \u001b[0;34m=\u001b[0m \u001b[0mDataFrame\u001b[0m\u001b[0;34m.\u001b[0m\u001b[0mcorr\u001b[0m\u001b[0;34m.\u001b[0m\u001b[0m__doc__\u001b[0m\u001b[0;34m\u001b[0m\u001b[0m\n",
      "\u001b[0;32m~/spark-2.1.1-bin-hadoop2.7/python/pyspark/sql/dataframe.py\u001b[0m in \u001b[0;36mcorr\u001b[0;34m(self, col1, col2, method)\u001b[0m\n\u001b[1;32m   1423\u001b[0m             raise ValueError(\"Currently only the calculation of the Pearson Correlation \" +\n\u001b[1;32m   1424\u001b[0m                              \"coefficient is supported.\")\n\u001b[0;32m-> 1425\u001b[0;31m         \u001b[0;32mreturn\u001b[0m \u001b[0mself\u001b[0m\u001b[0;34m.\u001b[0m\u001b[0m_jdf\u001b[0m\u001b[0;34m.\u001b[0m\u001b[0mstat\u001b[0m\u001b[0;34m(\u001b[0m\u001b[0;34m)\u001b[0m\u001b[0;34m.\u001b[0m\u001b[0mcorr\u001b[0m\u001b[0;34m(\u001b[0m\u001b[0mcol1\u001b[0m\u001b[0;34m,\u001b[0m \u001b[0mcol2\u001b[0m\u001b[0;34m,\u001b[0m \u001b[0mmethod\u001b[0m\u001b[0;34m)\u001b[0m\u001b[0;34m\u001b[0m\u001b[0m\n\u001b[0m\u001b[1;32m   1426\u001b[0m \u001b[0;34m\u001b[0m\u001b[0m\n\u001b[1;32m   1427\u001b[0m     \u001b[0;34m@\u001b[0m\u001b[0msince\u001b[0m\u001b[0;34m(\u001b[0m\u001b[0;36m1.4\u001b[0m\u001b[0;34m)\u001b[0m\u001b[0;34m\u001b[0m\u001b[0m\n",
      "\u001b[0;32m~/spark-2.1.1-bin-hadoop2.7/python/lib/py4j-0.10.4-src.zip/py4j/java_gateway.py\u001b[0m in \u001b[0;36m__call__\u001b[0;34m(self, *args)\u001b[0m\n\u001b[1;32m   1129\u001b[0m             \u001b[0mproto\u001b[0m\u001b[0;34m.\u001b[0m\u001b[0mEND_COMMAND_PART\u001b[0m\u001b[0;34m\u001b[0m\u001b[0m\n\u001b[1;32m   1130\u001b[0m \u001b[0;34m\u001b[0m\u001b[0m\n\u001b[0;32m-> 1131\u001b[0;31m         \u001b[0manswer\u001b[0m \u001b[0;34m=\u001b[0m \u001b[0mself\u001b[0m\u001b[0;34m.\u001b[0m\u001b[0mgateway_client\u001b[0m\u001b[0;34m.\u001b[0m\u001b[0msend_command\u001b[0m\u001b[0;34m(\u001b[0m\u001b[0mcommand\u001b[0m\u001b[0;34m)\u001b[0m\u001b[0;34m\u001b[0m\u001b[0m\n\u001b[0m\u001b[1;32m   1132\u001b[0m         return_value = get_return_value(\n\u001b[1;32m   1133\u001b[0m             answer, self.gateway_client, self.target_id, self.name)\n",
      "\u001b[0;32m~/spark-2.1.1-bin-hadoop2.7/python/lib/py4j-0.10.4-src.zip/py4j/java_gateway.py\u001b[0m in \u001b[0;36msend_command\u001b[0;34m(self, command, retry, binary)\u001b[0m\n\u001b[1;32m    881\u001b[0m         \u001b[0mconnection\u001b[0m \u001b[0;34m=\u001b[0m \u001b[0mself\u001b[0m\u001b[0;34m.\u001b[0m\u001b[0m_get_connection\u001b[0m\u001b[0;34m(\u001b[0m\u001b[0;34m)\u001b[0m\u001b[0;34m\u001b[0m\u001b[0m\n\u001b[1;32m    882\u001b[0m         \u001b[0;32mtry\u001b[0m\u001b[0;34m:\u001b[0m\u001b[0;34m\u001b[0m\u001b[0m\n\u001b[0;32m--> 883\u001b[0;31m             \u001b[0mresponse\u001b[0m \u001b[0;34m=\u001b[0m \u001b[0mconnection\u001b[0m\u001b[0;34m.\u001b[0m\u001b[0msend_command\u001b[0m\u001b[0;34m(\u001b[0m\u001b[0mcommand\u001b[0m\u001b[0;34m)\u001b[0m\u001b[0;34m\u001b[0m\u001b[0m\n\u001b[0m\u001b[1;32m    884\u001b[0m             \u001b[0;32mif\u001b[0m \u001b[0mbinary\u001b[0m\u001b[0;34m:\u001b[0m\u001b[0;34m\u001b[0m\u001b[0m\n\u001b[1;32m    885\u001b[0m                 \u001b[0;32mreturn\u001b[0m \u001b[0mresponse\u001b[0m\u001b[0;34m,\u001b[0m \u001b[0mself\u001b[0m\u001b[0;34m.\u001b[0m\u001b[0m_create_connection_guard\u001b[0m\u001b[0;34m(\u001b[0m\u001b[0mconnection\u001b[0m\u001b[0;34m)\u001b[0m\u001b[0;34m\u001b[0m\u001b[0m\n",
      "\u001b[0;32m~/spark-2.1.1-bin-hadoop2.7/python/lib/py4j-0.10.4-src.zip/py4j/java_gateway.py\u001b[0m in \u001b[0;36msend_command\u001b[0;34m(self, command)\u001b[0m\n\u001b[1;32m   1026\u001b[0m \u001b[0;34m\u001b[0m\u001b[0m\n\u001b[1;32m   1027\u001b[0m         \u001b[0;32mtry\u001b[0m\u001b[0;34m:\u001b[0m\u001b[0;34m\u001b[0m\u001b[0m\n\u001b[0;32m-> 1028\u001b[0;31m             \u001b[0manswer\u001b[0m \u001b[0;34m=\u001b[0m \u001b[0msmart_decode\u001b[0m\u001b[0;34m(\u001b[0m\u001b[0mself\u001b[0m\u001b[0;34m.\u001b[0m\u001b[0mstream\u001b[0m\u001b[0;34m.\u001b[0m\u001b[0mreadline\u001b[0m\u001b[0;34m(\u001b[0m\u001b[0;34m)\u001b[0m\u001b[0;34m[\u001b[0m\u001b[0;34m:\u001b[0m\u001b[0;34m-\u001b[0m\u001b[0;36m1\u001b[0m\u001b[0;34m]\u001b[0m\u001b[0;34m)\u001b[0m\u001b[0;34m\u001b[0m\u001b[0m\n\u001b[0m\u001b[1;32m   1029\u001b[0m             \u001b[0mlogger\u001b[0m\u001b[0;34m.\u001b[0m\u001b[0mdebug\u001b[0m\u001b[0;34m(\u001b[0m\u001b[0;34m\"Answer received: {0}\"\u001b[0m\u001b[0;34m.\u001b[0m\u001b[0mformat\u001b[0m\u001b[0;34m(\u001b[0m\u001b[0manswer\u001b[0m\u001b[0;34m)\u001b[0m\u001b[0;34m)\u001b[0m\u001b[0;34m\u001b[0m\u001b[0m\n\u001b[1;32m   1030\u001b[0m             \u001b[0;32mif\u001b[0m \u001b[0manswer\u001b[0m\u001b[0;34m.\u001b[0m\u001b[0mstartswith\u001b[0m\u001b[0;34m(\u001b[0m\u001b[0mproto\u001b[0m\u001b[0;34m.\u001b[0m\u001b[0mRETURN_MESSAGE\u001b[0m\u001b[0;34m)\u001b[0m\u001b[0;34m:\u001b[0m\u001b[0;34m\u001b[0m\u001b[0m\n",
      "\u001b[0;32m/usr/lib/python3.5/socket.py\u001b[0m in \u001b[0;36mreadinto\u001b[0;34m(self, b)\u001b[0m\n\u001b[1;32m    573\u001b[0m         \u001b[0;32mwhile\u001b[0m \u001b[0;32mTrue\u001b[0m\u001b[0;34m:\u001b[0m\u001b[0;34m\u001b[0m\u001b[0m\n\u001b[1;32m    574\u001b[0m             \u001b[0;32mtry\u001b[0m\u001b[0;34m:\u001b[0m\u001b[0;34m\u001b[0m\u001b[0m\n\u001b[0;32m--> 575\u001b[0;31m                 \u001b[0;32mreturn\u001b[0m \u001b[0mself\u001b[0m\u001b[0;34m.\u001b[0m\u001b[0m_sock\u001b[0m\u001b[0;34m.\u001b[0m\u001b[0mrecv_into\u001b[0m\u001b[0;34m(\u001b[0m\u001b[0mb\u001b[0m\u001b[0;34m)\u001b[0m\u001b[0;34m\u001b[0m\u001b[0m\n\u001b[0m\u001b[1;32m    576\u001b[0m             \u001b[0;32mexcept\u001b[0m \u001b[0mtimeout\u001b[0m\u001b[0;34m:\u001b[0m\u001b[0;34m\u001b[0m\u001b[0m\n\u001b[1;32m    577\u001b[0m                 \u001b[0mself\u001b[0m\u001b[0;34m.\u001b[0m\u001b[0m_timeout_occurred\u001b[0m \u001b[0;34m=\u001b[0m \u001b[0;32mTrue\u001b[0m\u001b[0;34m\u001b[0m\u001b[0m\n",
      "\u001b[0;31mKeyboardInterrupt\u001b[0m: "
     ]
    }
   ],
   "source": [
    "columns = dfMerged.drop(*['Year', 'Country', 'Status']).columns\n",
    "for col1 in columns:\n",
    "    correlationMatrix = pd.DataFrame(columns=['Column', 'Coeff', 'Category'])\n",
    "    for col2 in columns:\n",
    "        if col1 != col2:\n",
    "            correlation = dfMerged.stat.corr(col1, col2)\n",
    "            cat = 'Strong' if abs(correlation) > 0.7 else 'Weak'\n",
    "            correlationMatrix = correlationMatrix.append({'Column': col2, 'Coeff': correlation, 'Category': cat}, ignore_index=True)\n",
    "    print('##############')\n",
    "    print(col1)\n",
    "    print(correlationMatrix)"
   ]
  },
  {
   "cell_type": "code",
   "execution_count": 19,
   "metadata": {},
   "outputs": [
    {
     "name": "stdout",
     "output_type": "stream",
     "text": [
      "['Country', 'Year', 'Life expectancy ', 'Adult Mortality', 'Hepatitis B', 'Measles', 'under-five deaths', 'Polio', 'Diphtheria', ' HIV/AIDS', ' thinness  1-19 years', 'Status', 'Alcohol', 'Total expenditure', 'GDP', 'Population', 'Schooling']\n"
     ]
    }
   ],
   "source": [
    "dfMerged = dfMerged.drop(*['Income composition of resources', 'percentage expenditure'])\n",
    "print(dfMerged.columns)"
   ]
  },
  {
   "cell_type": "code",
   "execution_count": null,
   "metadata": {},
   "outputs": [],
   "source": []
  },
  {
   "cell_type": "code",
   "execution_count": 20,
   "metadata": {},
   "outputs": [],
   "source": [
    "meanschooling = dfMerged.select(mean(dfMerged['Schooling'])).collect()\n",
    "meanpopulation = dfMerged.select(mean(dfMerged['Population'])).collect()\n",
    "meangdp = dfMerged.select(mean(dfMerged['GDP'])).collect()\n",
    "meantotexp = dfMerged.select(mean(dfMerged['Total expenditure'])).collect()\n",
    "meanalcohol = dfMerged.select(mean(dfMerged['Alcohol'])).collect()\n",
    "dfMerged = dfMerged.na.fill(meanschooling[0][0], subset=['Schooling'])\n",
    "dfMerged = dfMerged.na.fill(meanpopulation[0][0], subset=['Population'])\n",
    "dfMerged = dfMerged.na.fill(meangdp[0][0], subset=['GDP'])\n",
    "dfMerged = dfMerged.na.fill(meantotexp[0][0], subset=['Total expenditure'])\n",
    "dfMerged = dfMerged.na.fill(meanalcohol[0][0], subset=['Alcohol'])\n"
   ]
  },
  {
   "cell_type": "code",
   "execution_count": 21,
   "metadata": {},
   "outputs": [
    {
     "name": "stdout",
     "output_type": "stream",
     "text": [
      "+-----------+----+----------------+---------------+-----------+-------+-----------------+-----+----------+---------+---------------------+----------+-------+-----------------+-----------+-----------+---------+\n",
      "|    Country|Year|Life expectancy |Adult Mortality|Hepatitis B|Measles|under-five deaths|Polio|Diphtheria| HIV/AIDS| thinness  1-19 years|    Status|Alcohol|Total expenditure|        GDP| Population|Schooling|\n",
      "+-----------+----+----------------+---------------+-----------+-------+-----------------+-----+----------+---------+---------------------+----------+-------+-----------------+-----------+-----------+---------+\n",
      "|Afghanistan|2000|            54.8|          321.0|       62.0| 6532.0|            122.0| 24.0|      24.0|      0.1|                  2.3|Developing|   0.01|              8.2|     114.56|   293756.0|      5.5|\n",
      "|Afghanistan|2001|            55.3|          316.0|       63.0| 8762.0|            122.0| 35.0|      33.0|      0.1|                  2.1|Developing|   0.01|              7.8|  117.49698|  2966463.0|      5.9|\n",
      "|Afghanistan|2002|            56.2|            3.0|       64.0| 2486.0|            122.0| 36.0|      36.0|      0.1|                 19.9|Developing|   0.01|             7.76|  187.84595|2.1979923E7|      6.2|\n",
      "|Afghanistan|2003|            56.7|          295.0|       65.0|  798.0|            122.0| 41.0|      41.0|      0.1|                 19.7|Developing|   0.01|             8.82|198.7285436|  2364851.0|      6.5|\n",
      "|Afghanistan|2004|            57.0|          293.0|       67.0|  466.0|            120.0|  5.0|       5.0|      0.1|                 19.5|Developing|   0.02|             8.79|219.1413528|2.4118979E7|      6.8|\n",
      "|Afghanistan|2005|            57.3|          291.0|       66.0| 1296.0|            118.0| 58.0|      58.0|      0.1|                 19.3|Developing|   0.02|              8.7| 25.2941299|   257798.0|      7.9|\n",
      "|Afghanistan|2006|            57.3|          295.0|       64.0| 1990.0|            116.0| 58.0|      58.0|      0.1|                 19.2|Developing|   0.03|             7.43|  272.56377|  2589345.0|      8.1|\n",
      "|Afghanistan|2007|            57.5|          295.0|       63.0| 1141.0|            113.0| 63.0|      63.0|      0.1|                 19.0|Developing|   0.02|             6.73| 369.835796|2.6616792E7|      8.4|\n",
      "|Afghanistan|2008|            58.1|          287.0|       64.0| 1599.0|            110.0| 64.0|      64.0|      0.1|                 18.8|Developing|   0.03|             8.33|373.3611163|  2729431.0|      8.7|\n",
      "|Afghanistan|2009|            58.6|          281.0|       63.0| 2861.0|            106.0| 63.0|      63.0|      0.1|                 18.6|Developing|   0.01|             9.42|445.8932979|   284331.0|      8.9|\n",
      "|Afghanistan|2010|            58.8|          279.0|       66.0| 1989.0|            102.0| 66.0|      66.0|      0.1|                 18.4|Developing|   0.01|              9.2|  553.32894|  2883167.0|      9.2|\n",
      "|Afghanistan|2011|            59.2|          275.0|       68.0| 3013.0|             97.0| 68.0|      68.0|      0.1|                 18.2|Developing|   0.01|             7.87|  63.537231|  2978599.0|      9.5|\n",
      "|Afghanistan|2012|            59.5|          272.0|       67.0| 2787.0|             93.0| 67.0|      67.0|      0.1|                 17.9|Developing|   0.01|             8.52|    669.959|  3696958.0|      9.8|\n",
      "|Afghanistan|2013|            59.9|          268.0|       64.0|  430.0|             89.0| 62.0|      64.0|      0.1|                 17.7|Developing|   0.01|             8.13| 631.744976|3.1731688E7|      9.9|\n",
      "|Afghanistan|2014|            59.9|          271.0|       62.0|  492.0|             86.0| 58.0|      62.0|      0.1|                 17.5|Developing|   0.01|             8.18| 612.696514|   327582.0|     10.0|\n",
      "|Afghanistan|2015|            65.0|          263.0|       65.0| 1154.0|             83.0|  6.0|      65.0|      0.1|                 17.2|Developing|   0.01|             8.16|  584.25921|3.3736494E7|     10.1|\n",
      "|    Albania|2000|            72.6|           11.0|       96.0|  662.0|              1.0| 97.0|      97.0|      0.1|                  2.1|Developing|   3.66|             6.26|1175.788981|    38927.0|     10.7|\n",
      "|    Albania|2001|            73.6|           14.0|       96.0|   18.0|              1.0| 97.0|      97.0|      0.1|                  2.1|Developing|   4.25|              6.0| 1326.97339|    36173.0|     10.6|\n",
      "|    Albania|2002|            73.3|           15.0|       96.0|   16.0|              1.0| 98.0|      98.0|      0.1|                  2.0|Developing|   3.73|              6.3|1453.642777|     3511.0|     10.7|\n",
      "|    Albania|2003|            72.8|           18.0|       97.0|    8.0|              1.0| 97.0|      97.0|      0.1|                  1.9|Developing|   4.29|             6.27| 189.681557|   339616.0|     10.7|\n",
      "+-----------+----+----------------+---------------+-----------+-------+-----------------+-----+----------+---------+---------------------+----------+-------+-----------------+-----------+-----------+---------+\n",
      "only showing top 20 rows\n",
      "\n"
     ]
    }
   ],
   "source": [
    "dfMerged = dfMerged.sort(\"Country\", \"Year\")\n",
    "dfMerged.show()"
   ]
  },
  {
   "cell_type": "code",
   "execution_count": 22,
   "metadata": {},
   "outputs": [
    {
     "name": "stdout",
     "output_type": "stream",
     "text": [
      "root\n",
      " |-- country: string (nullable = true)\n",
      " |-- year: integer (nullable = true)\n",
      " |-- life-expectancy: double (nullable = true)\n",
      " |-- adult-mortality: double (nullable = true)\n",
      " |-- hepatitis-b: double (nullable = false)\n",
      " |-- measles: double (nullable = true)\n",
      " |-- under-five-deaths: double (nullable = true)\n",
      " |-- polio: double (nullable = false)\n",
      " |-- diphtheria: double (nullable = false)\n",
      " |--  hiv-aids: double (nullable = true)\n",
      " |--  thinness-1-19-years: double (nullable = false)\n",
      " |-- status: string (nullable = true)\n",
      " |-- alcohol: double (nullable = false)\n",
      " |-- total-expenditure: double (nullable = false)\n",
      " |-- gdp: double (nullable = false)\n",
      " |-- population: double (nullable = false)\n",
      " |-- schooling: double (nullable = false)\n",
      "\n"
     ]
    }
   ],
   "source": [
    "dfMerged = dfMerged.toDF(*['country', 'year', 'life-expectancy', 'adult-mortality', 'hepatitis-b', 'measles', \n",
    "                           'under-five-deaths', 'polio', 'diphtheria', ' hiv-aids', ' thinness-1-19-years', \n",
    "                           'status', 'alcohol', 'total-expenditure', 'gdp', 'population', \n",
    "                           'schooling'])\n",
    "dfMerged.printSchema()"
   ]
  },
  {
   "cell_type": "code",
   "execution_count": 23,
   "metadata": {},
   "outputs": [
    {
     "name": "stdout",
     "output_type": "stream",
     "text": [
      "['country', 'year', 'life-expectancy', 'adult-mortality', 'hepatitis-b', 'measles', 'under-five-deaths', 'polio', 'diphtheria', ' hiv-aids', ' thinness-1-19-years', 'status', 'alcohol', 'total-expenditure', 'gdp', 'population', 'schooling']\n"
     ]
    }
   ],
   "source": [
    "print(dfMerged.columns)"
   ]
  },
  {
   "cell_type": "code",
   "execution_count": 24,
   "metadata": {},
   "outputs": [
    {
     "ename": "KeyboardInterrupt",
     "evalue": "",
     "output_type": "error",
     "traceback": [
      "\u001b[0;31m---------------------------------------------------------------------------\u001b[0m",
      "\u001b[0;31mKeyboardInterrupt\u001b[0m                         Traceback (most recent call last)",
      "\u001b[0;32m<ipython-input-24-b4783cae9cef>\u001b[0m in \u001b[0;36m<module>\u001b[0;34m()\u001b[0m\n\u001b[1;32m      2\u001b[0m \u001b[0mcorrelationMatrix\u001b[0m \u001b[0;34m=\u001b[0m \u001b[0mpd\u001b[0m\u001b[0;34m.\u001b[0m\u001b[0mDataFrame\u001b[0m\u001b[0;34m(\u001b[0m\u001b[0mcolumns\u001b[0m\u001b[0;34m=\u001b[0m\u001b[0;34m[\u001b[0m\u001b[0;34m'Column'\u001b[0m\u001b[0;34m,\u001b[0m \u001b[0;34m'Coeff'\u001b[0m\u001b[0;34m,\u001b[0m \u001b[0;34m'Category'\u001b[0m\u001b[0;34m]\u001b[0m\u001b[0;34m)\u001b[0m\u001b[0;34m\u001b[0m\u001b[0m\n\u001b[1;32m      3\u001b[0m \u001b[0;32mfor\u001b[0m \u001b[0mcol1\u001b[0m \u001b[0;32min\u001b[0m \u001b[0mcolumns\u001b[0m\u001b[0;34m:\u001b[0m\u001b[0;34m\u001b[0m\u001b[0m\n\u001b[0;32m----> 4\u001b[0;31m     \u001b[0mcorrelation\u001b[0m \u001b[0;34m=\u001b[0m \u001b[0mdfMerged\u001b[0m\u001b[0;34m.\u001b[0m\u001b[0mstat\u001b[0m\u001b[0;34m.\u001b[0m\u001b[0mcorr\u001b[0m\u001b[0;34m(\u001b[0m\u001b[0mcol1\u001b[0m\u001b[0;34m,\u001b[0m \u001b[0;34m'life-expectancy'\u001b[0m\u001b[0;34m)\u001b[0m\u001b[0;34m\u001b[0m\u001b[0m\n\u001b[0m\u001b[1;32m      5\u001b[0m     \u001b[0mcat\u001b[0m \u001b[0;34m=\u001b[0m \u001b[0;34m'Strong'\u001b[0m \u001b[0;32mif\u001b[0m \u001b[0mabs\u001b[0m\u001b[0;34m(\u001b[0m\u001b[0mcorrelation\u001b[0m\u001b[0;34m)\u001b[0m \u001b[0;34m>\u001b[0m \u001b[0;36m0.1\u001b[0m \u001b[0;32melse\u001b[0m \u001b[0;34m'Weak'\u001b[0m\u001b[0;34m\u001b[0m\u001b[0m\n\u001b[1;32m      6\u001b[0m     \u001b[0mcorrelationMatrix\u001b[0m \u001b[0;34m=\u001b[0m \u001b[0mcorrelationMatrix\u001b[0m\u001b[0;34m.\u001b[0m\u001b[0mappend\u001b[0m\u001b[0;34m(\u001b[0m\u001b[0;34m{\u001b[0m\u001b[0;34m'Column'\u001b[0m\u001b[0;34m:\u001b[0m \u001b[0mcol1\u001b[0m\u001b[0;34m,\u001b[0m \u001b[0;34m'Coeff'\u001b[0m\u001b[0;34m:\u001b[0m \u001b[0mcorrelation\u001b[0m\u001b[0;34m,\u001b[0m \u001b[0;34m'Category'\u001b[0m\u001b[0;34m:\u001b[0m \u001b[0mcat\u001b[0m\u001b[0;34m}\u001b[0m\u001b[0;34m,\u001b[0m \u001b[0mignore_index\u001b[0m\u001b[0;34m=\u001b[0m\u001b[0;32mTrue\u001b[0m\u001b[0;34m)\u001b[0m\u001b[0;34m\u001b[0m\u001b[0m\n",
      "\u001b[0;32m~/spark-2.1.1-bin-hadoop2.7/python/pyspark/sql/dataframe.py\u001b[0m in \u001b[0;36mcorr\u001b[0;34m(self, col1, col2, method)\u001b[0m\n\u001b[1;32m   1652\u001b[0m \u001b[0;34m\u001b[0m\u001b[0m\n\u001b[1;32m   1653\u001b[0m     \u001b[0;32mdef\u001b[0m \u001b[0mcorr\u001b[0m\u001b[0;34m(\u001b[0m\u001b[0mself\u001b[0m\u001b[0;34m,\u001b[0m \u001b[0mcol1\u001b[0m\u001b[0;34m,\u001b[0m \u001b[0mcol2\u001b[0m\u001b[0;34m,\u001b[0m \u001b[0mmethod\u001b[0m\u001b[0;34m=\u001b[0m\u001b[0;32mNone\u001b[0m\u001b[0;34m)\u001b[0m\u001b[0;34m:\u001b[0m\u001b[0;34m\u001b[0m\u001b[0m\n\u001b[0;32m-> 1654\u001b[0;31m         \u001b[0;32mreturn\u001b[0m \u001b[0mself\u001b[0m\u001b[0;34m.\u001b[0m\u001b[0mdf\u001b[0m\u001b[0;34m.\u001b[0m\u001b[0mcorr\u001b[0m\u001b[0;34m(\u001b[0m\u001b[0mcol1\u001b[0m\u001b[0;34m,\u001b[0m \u001b[0mcol2\u001b[0m\u001b[0;34m,\u001b[0m \u001b[0mmethod\u001b[0m\u001b[0;34m)\u001b[0m\u001b[0;34m\u001b[0m\u001b[0m\n\u001b[0m\u001b[1;32m   1655\u001b[0m \u001b[0;34m\u001b[0m\u001b[0m\n\u001b[1;32m   1656\u001b[0m     \u001b[0mcorr\u001b[0m\u001b[0;34m.\u001b[0m\u001b[0m__doc__\u001b[0m \u001b[0;34m=\u001b[0m \u001b[0mDataFrame\u001b[0m\u001b[0;34m.\u001b[0m\u001b[0mcorr\u001b[0m\u001b[0;34m.\u001b[0m\u001b[0m__doc__\u001b[0m\u001b[0;34m\u001b[0m\u001b[0m\n",
      "\u001b[0;32m~/spark-2.1.1-bin-hadoop2.7/python/pyspark/sql/dataframe.py\u001b[0m in \u001b[0;36mcorr\u001b[0;34m(self, col1, col2, method)\u001b[0m\n\u001b[1;32m   1423\u001b[0m             raise ValueError(\"Currently only the calculation of the Pearson Correlation \" +\n\u001b[1;32m   1424\u001b[0m                              \"coefficient is supported.\")\n\u001b[0;32m-> 1425\u001b[0;31m         \u001b[0;32mreturn\u001b[0m \u001b[0mself\u001b[0m\u001b[0;34m.\u001b[0m\u001b[0m_jdf\u001b[0m\u001b[0;34m.\u001b[0m\u001b[0mstat\u001b[0m\u001b[0;34m(\u001b[0m\u001b[0;34m)\u001b[0m\u001b[0;34m.\u001b[0m\u001b[0mcorr\u001b[0m\u001b[0;34m(\u001b[0m\u001b[0mcol1\u001b[0m\u001b[0;34m,\u001b[0m \u001b[0mcol2\u001b[0m\u001b[0;34m,\u001b[0m \u001b[0mmethod\u001b[0m\u001b[0;34m)\u001b[0m\u001b[0;34m\u001b[0m\u001b[0m\n\u001b[0m\u001b[1;32m   1426\u001b[0m \u001b[0;34m\u001b[0m\u001b[0m\n\u001b[1;32m   1427\u001b[0m     \u001b[0;34m@\u001b[0m\u001b[0msince\u001b[0m\u001b[0;34m(\u001b[0m\u001b[0;36m1.4\u001b[0m\u001b[0;34m)\u001b[0m\u001b[0;34m\u001b[0m\u001b[0m\n",
      "\u001b[0;32m~/spark-2.1.1-bin-hadoop2.7/python/lib/py4j-0.10.4-src.zip/py4j/java_gateway.py\u001b[0m in \u001b[0;36m__call__\u001b[0;34m(self, *args)\u001b[0m\n\u001b[1;32m   1129\u001b[0m             \u001b[0mproto\u001b[0m\u001b[0;34m.\u001b[0m\u001b[0mEND_COMMAND_PART\u001b[0m\u001b[0;34m\u001b[0m\u001b[0m\n\u001b[1;32m   1130\u001b[0m \u001b[0;34m\u001b[0m\u001b[0m\n\u001b[0;32m-> 1131\u001b[0;31m         \u001b[0manswer\u001b[0m \u001b[0;34m=\u001b[0m \u001b[0mself\u001b[0m\u001b[0;34m.\u001b[0m\u001b[0mgateway_client\u001b[0m\u001b[0;34m.\u001b[0m\u001b[0msend_command\u001b[0m\u001b[0;34m(\u001b[0m\u001b[0mcommand\u001b[0m\u001b[0;34m)\u001b[0m\u001b[0;34m\u001b[0m\u001b[0m\n\u001b[0m\u001b[1;32m   1132\u001b[0m         return_value = get_return_value(\n\u001b[1;32m   1133\u001b[0m             answer, self.gateway_client, self.target_id, self.name)\n",
      "\u001b[0;32m~/spark-2.1.1-bin-hadoop2.7/python/lib/py4j-0.10.4-src.zip/py4j/java_gateway.py\u001b[0m in \u001b[0;36msend_command\u001b[0;34m(self, command, retry, binary)\u001b[0m\n\u001b[1;32m    881\u001b[0m         \u001b[0mconnection\u001b[0m \u001b[0;34m=\u001b[0m \u001b[0mself\u001b[0m\u001b[0;34m.\u001b[0m\u001b[0m_get_connection\u001b[0m\u001b[0;34m(\u001b[0m\u001b[0;34m)\u001b[0m\u001b[0;34m\u001b[0m\u001b[0m\n\u001b[1;32m    882\u001b[0m         \u001b[0;32mtry\u001b[0m\u001b[0;34m:\u001b[0m\u001b[0;34m\u001b[0m\u001b[0m\n\u001b[0;32m--> 883\u001b[0;31m             \u001b[0mresponse\u001b[0m \u001b[0;34m=\u001b[0m \u001b[0mconnection\u001b[0m\u001b[0;34m.\u001b[0m\u001b[0msend_command\u001b[0m\u001b[0;34m(\u001b[0m\u001b[0mcommand\u001b[0m\u001b[0;34m)\u001b[0m\u001b[0;34m\u001b[0m\u001b[0m\n\u001b[0m\u001b[1;32m    884\u001b[0m             \u001b[0;32mif\u001b[0m \u001b[0mbinary\u001b[0m\u001b[0;34m:\u001b[0m\u001b[0;34m\u001b[0m\u001b[0m\n\u001b[1;32m    885\u001b[0m                 \u001b[0;32mreturn\u001b[0m \u001b[0mresponse\u001b[0m\u001b[0;34m,\u001b[0m \u001b[0mself\u001b[0m\u001b[0;34m.\u001b[0m\u001b[0m_create_connection_guard\u001b[0m\u001b[0;34m(\u001b[0m\u001b[0mconnection\u001b[0m\u001b[0;34m)\u001b[0m\u001b[0;34m\u001b[0m\u001b[0m\n",
      "\u001b[0;32m~/spark-2.1.1-bin-hadoop2.7/python/lib/py4j-0.10.4-src.zip/py4j/java_gateway.py\u001b[0m in \u001b[0;36msend_command\u001b[0;34m(self, command)\u001b[0m\n\u001b[1;32m   1026\u001b[0m \u001b[0;34m\u001b[0m\u001b[0m\n\u001b[1;32m   1027\u001b[0m         \u001b[0;32mtry\u001b[0m\u001b[0;34m:\u001b[0m\u001b[0;34m\u001b[0m\u001b[0m\n\u001b[0;32m-> 1028\u001b[0;31m             \u001b[0manswer\u001b[0m \u001b[0;34m=\u001b[0m \u001b[0msmart_decode\u001b[0m\u001b[0;34m(\u001b[0m\u001b[0mself\u001b[0m\u001b[0;34m.\u001b[0m\u001b[0mstream\u001b[0m\u001b[0;34m.\u001b[0m\u001b[0mreadline\u001b[0m\u001b[0;34m(\u001b[0m\u001b[0;34m)\u001b[0m\u001b[0;34m[\u001b[0m\u001b[0;34m:\u001b[0m\u001b[0;34m-\u001b[0m\u001b[0;36m1\u001b[0m\u001b[0;34m]\u001b[0m\u001b[0;34m)\u001b[0m\u001b[0;34m\u001b[0m\u001b[0m\n\u001b[0m\u001b[1;32m   1029\u001b[0m             \u001b[0mlogger\u001b[0m\u001b[0;34m.\u001b[0m\u001b[0mdebug\u001b[0m\u001b[0;34m(\u001b[0m\u001b[0;34m\"Answer received: {0}\"\u001b[0m\u001b[0;34m.\u001b[0m\u001b[0mformat\u001b[0m\u001b[0;34m(\u001b[0m\u001b[0manswer\u001b[0m\u001b[0;34m)\u001b[0m\u001b[0;34m)\u001b[0m\u001b[0;34m\u001b[0m\u001b[0m\n\u001b[1;32m   1030\u001b[0m             \u001b[0;32mif\u001b[0m \u001b[0manswer\u001b[0m\u001b[0;34m.\u001b[0m\u001b[0mstartswith\u001b[0m\u001b[0;34m(\u001b[0m\u001b[0mproto\u001b[0m\u001b[0;34m.\u001b[0m\u001b[0mRETURN_MESSAGE\u001b[0m\u001b[0;34m)\u001b[0m\u001b[0;34m:\u001b[0m\u001b[0;34m\u001b[0m\u001b[0m\n",
      "\u001b[0;32m/usr/lib/python3.5/socket.py\u001b[0m in \u001b[0;36mreadinto\u001b[0;34m(self, b)\u001b[0m\n\u001b[1;32m    573\u001b[0m         \u001b[0;32mwhile\u001b[0m \u001b[0;32mTrue\u001b[0m\u001b[0;34m:\u001b[0m\u001b[0;34m\u001b[0m\u001b[0m\n\u001b[1;32m    574\u001b[0m             \u001b[0;32mtry\u001b[0m\u001b[0;34m:\u001b[0m\u001b[0;34m\u001b[0m\u001b[0m\n\u001b[0;32m--> 575\u001b[0;31m                 \u001b[0;32mreturn\u001b[0m \u001b[0mself\u001b[0m\u001b[0;34m.\u001b[0m\u001b[0m_sock\u001b[0m\u001b[0;34m.\u001b[0m\u001b[0mrecv_into\u001b[0m\u001b[0;34m(\u001b[0m\u001b[0mb\u001b[0m\u001b[0;34m)\u001b[0m\u001b[0;34m\u001b[0m\u001b[0m\n\u001b[0m\u001b[1;32m    576\u001b[0m             \u001b[0;32mexcept\u001b[0m \u001b[0mtimeout\u001b[0m\u001b[0;34m:\u001b[0m\u001b[0;34m\u001b[0m\u001b[0m\n\u001b[1;32m    577\u001b[0m                 \u001b[0mself\u001b[0m\u001b[0;34m.\u001b[0m\u001b[0m_timeout_occurred\u001b[0m \u001b[0;34m=\u001b[0m \u001b[0;32mTrue\u001b[0m\u001b[0;34m\u001b[0m\u001b[0m\n",
      "\u001b[0;31mKeyboardInterrupt\u001b[0m: "
     ]
    }
   ],
   "source": [
    "columns = dfMerged.drop(*['Year', 'Country', 'Status']).columns\n",
    "correlationMatrix = pd.DataFrame(columns=['Column', 'Coeff', 'Category'])\n",
    "for col1 in columns:\n",
    "    correlation = dfMerged.stat.corr(col1, 'life-expectancy')\n",
    "    cat = 'Strong' if abs(correlation) > 0.1 else 'Weak'\n",
    "    correlationMatrix = correlationMatrix.append({'Column': col1, 'Coeff': correlation, 'Category': cat}, ignore_index=True)\n",
    "print('life-expectancy')\n",
    "print(correlationMatrix)"
   ]
  },
  {
   "cell_type": "code",
   "execution_count": 25,
   "metadata": {},
   "outputs": [
    {
     "name": "stdout",
     "output_type": "stream",
     "text": [
      "['country', 'year', 'life-expectancy', 'adult-mortality', 'hepatitis-b', 'measles', 'under-five-deaths', 'polio', 'diphtheria', ' hiv-aids', ' thinness-1-19-years', 'status', 'alcohol', 'total-expenditure', 'gdp', 'schooling']\n"
     ]
    }
   ],
   "source": [
    "dfMerged = dfMerged.drop(*['population'])\n",
    "print(dfMerged.columns)"
   ]
  },
  {
   "cell_type": "code",
   "execution_count": 26,
   "metadata": {},
   "outputs": [],
   "source": [
    "from pyspark.ml.feature import Bucketizer\n",
    "dfMerged = dfMerged.drop(*['schooling_binned'])\n",
    "splits = [-1.5, 1.5, 4.5, 7.5, 10.5, 13.5, 16.5, 19.5, 22.5]\n",
    "bucketizer = Bucketizer(splits=splits, inputCol=\"schooling\", outputCol=\"schooling_binned\")\n",
    "dfMerged = bucketizer.transform(dfMerged)"
   ]
  },
  {
   "cell_type": "code",
   "execution_count": 27,
   "metadata": {},
   "outputs": [],
   "source": [
    "dfMerged = dfMerged.drop(*['alcohol_binned'])\n",
    "splits = [-8, -5, -2, 1, 4, 7, 10, 13, 16, 19, 22]\n",
    "bucketizer = Bucketizer(splits=splits, inputCol=\"alcohol\", outputCol=\"alcohol_binned\")\n",
    "dfMerged = bucketizer.transform(dfMerged)"
   ]
  },
  {
   "cell_type": "code",
   "execution_count": 28,
   "metadata": {},
   "outputs": [
    {
     "name": "stdout",
     "output_type": "stream",
     "text": [
      "['country', 'year', 'life-expectancy', 'adult-mortality', 'hepatitis-b', 'measles', 'under-five-deaths', 'polio', 'diphtheria', ' hiv-aids', ' thinness-1-19-years', 'status', 'total-expenditure', 'gdp', 'schooling_binned', 'alcohol_binned']\n"
     ]
    }
   ],
   "source": [
    "dfMerged = dfMerged.drop(*['schooling', 'alcohol'])\n",
    "print(dfMerged.columns)"
   ]
  },
  {
   "cell_type": "code",
   "execution_count": 33,
   "metadata": {},
   "outputs": [
    {
     "name": "stdout",
     "output_type": "stream",
     "text": [
      "adult-mortality\n",
      "163.40899725274724\n",
      "122.99388187685773\n",
      "hepatitis-b\n",
      "81.04855248698674\n",
      "22.487562743076367\n",
      "measles\n",
      "2431.809752747253\n",
      "11516.031592203795\n",
      "under-five-deaths\n",
      "41.934065934065934\n",
      "161.10697166058083\n",
      "polio\n",
      "82.63956650731531\n",
      "23.306175119568522\n",
      "diphtheria\n",
      "82.39495429587602\n",
      "23.638027540309373\n",
      " hiv-aids\n",
      "1.7315590659340667\n",
      "5.092939378070892\n",
      " thinness-1-19-years\n",
      "5.69158149773911\n",
      "9.202248682311902\n",
      "total-expenditure\n",
      "5.931317454410123\n",
      "2.3915436398231917\n",
      "gdp\n",
      "7494.210719388654\n",
      "13193.237156034336\n",
      "+-------+----+----------------+---------------+-----------+-------+-----------------+-----+----------+---------+---------------------+\n",
      "|Country|Year|Life expectancy |Adult Mortality|Hepatitis B|Measles|under-five deaths|Polio|Diphtheria| HIV/AIDS| thinness  1-19 years|\n",
      "+-------+----+----------------+---------------+-----------+-------+-----------------+-----+----------+---------+---------------------+\n",
      "|      0|   0|               0|              0|          0|      0|                0|    0|         0|        0|                    0|\n",
      "+-------+----+----------------+---------------+-----------+-------+-----------------+-----+----------+---------+---------------------+\n",
      "\n"
     ]
    }
   ],
   "source": [
    "columnsToScale = ['adult-mortality', 'hepatitis-b', 'measles', 'under-five-deaths', 'polio', 'diphtheria', \n",
    "                  ' hiv-aids', ' thinness-1-19-years', 'total-expenditure', 'gdp']\n",
    "for col in columnsToScale:\n",
    "    print(col)\n",
    "    meanCol = dfMerged.agg({col: 'mean'}).collect()[0][0]\n",
    "    stdDiv = dfMerged.agg({col: 'stddev'}).collect()[0][0]\n",
    "    print(meanCol)\n",
    "    print(stdDiv)\n",
    "    newColName = col + '-scaled'\n",
    "    dfMerged = dfMerged.withColumn(newColName, (dfMerged[col] - meanCol) / (stdDiv))"
   ]
  },
  {
   "cell_type": "code",
   "execution_count": 35,
   "metadata": {},
   "outputs": [
    {
     "name": "stdout",
     "output_type": "stream",
     "text": [
      "+-------+----+---------------+------+----------------+--------------+----------------------+------------------+--------------+------------------------+------------+-----------------+----------------+---------------------------+------------------------+----------+\n",
      "|country|year|life-expectancy|status|schooling_binned|alcohol_binned|adult-mortality-scaled|hepatitis-b-scaled|measles-scaled|under-five-deaths-scaled|polio-scaled|diphtheria-scaled| hiv-aids-scaled| thinness-1-19-years-scaled|total-expenditure-scaled|gdp-scaled|\n",
      "+-------+----+---------------+------+----------------+--------------+----------------------+------------------+--------------+------------------------+------------+-----------------+----------------+---------------------------+------------------------+----------+\n",
      "|      0|   0|              0|     0|               0|             0|                     0|                 0|             0|                       0|           0|                0|               0|                          0|                       0|         0|\n",
      "+-------+----+---------------+------+----------------+--------------+----------------------+------------------+--------------+------------------------+------------+-----------------+----------------+---------------------------+------------------------+----------+\n",
      "\n"
     ]
    }
   ],
   "source": [
    "from pyspark.sql.functions import isnan, when, count, col\n",
    "dfMerged = dfMerged.drop(*['adult-mortality', 'hepatitis-b', 'measles', 'under-five-deaths', 'polio', 'diphtheria', \n",
    "                  ' hiv-aids', ' thinness-1-19-years', 'total-expenditure', 'gdp'])\n",
    "dfMerged.select([count(when(isnan(c), c)).alias(c) for c in dfMerged.columns]).show()"
   ]
  },
  {
   "cell_type": "code",
   "execution_count": 36,
   "metadata": {},
   "outputs": [
    {
     "name": "stdout",
     "output_type": "stream",
     "text": [
      "['country', 'year', 'life-expectancy', 'status', 'schooling_binned', 'alcohol_binned', 'adult-mortality-scaled', 'hepatitis-b-scaled', 'measles-scaled', 'under-five-deaths-scaled', 'polio-scaled', 'diphtheria-scaled', ' hiv-aids-scaled', ' thinness-1-19-years-scaled', 'total-expenditure-scaled', 'gdp-scaled']\n"
     ]
    }
   ],
   "source": [
    "print(dfMerged.columns)"
   ]
  },
  {
   "cell_type": "code",
   "execution_count": 38,
   "metadata": {},
   "outputs": [
    {
     "name": "stdout",
     "output_type": "stream",
     "text": [
      "+----------+\n",
      "|    status|\n",
      "+----------+\n",
      "|Developing|\n",
      "|Developing|\n",
      "|Developing|\n",
      "|Developing|\n",
      "|Developing|\n",
      "|Developing|\n",
      "|Developing|\n",
      "|Developing|\n",
      "|Developing|\n",
      "|Developing|\n",
      "|Developing|\n",
      "|Developing|\n",
      "|Developing|\n",
      "|Developing|\n",
      "|Developing|\n",
      "|Developing|\n",
      "|Developing|\n",
      "|Developing|\n",
      "|Developing|\n",
      "|Developing|\n",
      "+----------+\n",
      "only showing top 20 rows\n",
      "\n"
     ]
    }
   ],
   "source": [
    "dfMerged.select('status').show()"
   ]
  },
  {
   "cell_type": "code",
   "execution_count": 50,
   "metadata": {},
   "outputs": [
    {
     "name": "stdout",
     "output_type": "stream",
     "text": [
      "+--------------+\n",
      "|status-encoded|\n",
      "+--------------+\n",
      "|             0|\n",
      "|             0|\n",
      "|             0|\n",
      "|             0|\n",
      "|             0|\n",
      "|             0|\n",
      "|             0|\n",
      "|             0|\n",
      "|             0|\n",
      "|             0|\n",
      "|             0|\n",
      "|             0|\n",
      "|             0|\n",
      "|             0|\n",
      "|             0|\n",
      "|             0|\n",
      "|             0|\n",
      "|             0|\n",
      "|             0|\n",
      "|             0|\n",
      "+--------------+\n",
      "only showing top 20 rows\n",
      "\n"
     ]
    }
   ],
   "source": [
    "dfMerged = dfMerged.withColumn('status-encoded', (dfMerged['status'] == 'Developed').cast('integer'))\n",
    "dfMerged.select('status-encoded').show()\n",
    "dfMerged.drop(*['statusx '])"
   ]
  },
  {
   "cell_type": "code",
   "execution_count": null,
   "metadata": {},
   "outputs": [],
   "source": []
  }
 ],
 "metadata": {
  "kernelspec": {
   "display_name": "Python 3",
   "language": "python",
   "name": "python3"
  },
  "language_info": {
   "codemirror_mode": {
    "name": "ipython",
    "version": 3
   },
   "file_extension": ".py",
   "mimetype": "text/x-python",
   "name": "python",
   "nbconvert_exporter": "python",
   "pygments_lexer": "ipython3",
   "version": "3.5.2"
  }
 },
 "nbformat": 4,
 "nbformat_minor": 2
}
