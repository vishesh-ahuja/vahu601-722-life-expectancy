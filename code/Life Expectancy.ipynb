{
 "cells": [
  {
   "cell_type": "code",
   "execution_count": 1,
   "metadata": {},
   "outputs": [],
   "source": [
    "\n",
    "# Must be included at the beginning of each new notebook. Remember to change the app name.\n",
    "import findspark\n",
    "findspark.init('/home/ubuntu/spark-2.1.1-bin-hadoop2.7')\n",
    "import pyspark\n",
    "from pyspark.sql import SparkSession\n",
    "spark = SparkSession.builder.appName('life-expectancy-722').getOrCreate()"
   ]
  },
  {
   "cell_type": "code",
   "execution_count": 2,
   "metadata": {},
   "outputs": [
    {
     "name": "stdout",
     "output_type": "stream",
     "text": [
      "root\n",
      " |-- Country: string (nullable = true)\n",
      " |-- Year: integer (nullable = true)\n",
      " |-- Life expectancy : double (nullable = true)\n",
      " |-- Adult Mortality: double (nullable = true)\n",
      " |-- infant deaths: double (nullable = true)\n",
      " |-- Hepatitis B: double (nullable = true)\n",
      " |-- Measles: double (nullable = true)\n",
      " |--  BMI : double (nullable = true)\n",
      " |-- under-five deaths: double (nullable = true)\n",
      " |-- Polio: double (nullable = true)\n",
      " |-- Diphtheria: double (nullable = true)\n",
      " |--  HIV/AIDS: double (nullable = true)\n",
      " |--  thinness  1-19 years: double (nullable = true)\n",
      " |--  thinness 5-9 years: double (nullable = true)\n",
      "\n"
     ]
    }
   ],
   "source": [
    "from pyspark.sql.types import (StructField,StringType,IntegerType,StructType, DoubleType)\n",
    "\n",
    "data_schema = [StructField('Country',StringType(),True),\n",
    "              StructField('Year',IntegerType(),True),\n",
    "              StructField('Life expectancy ', DoubleType(), True),\n",
    "              StructField('Adult Mortality', DoubleType(), True),\n",
    "              StructField('infant deaths', DoubleType(), True),\n",
    "              StructField('Hepatitis B', DoubleType(), True),\n",
    "              StructField('Measles', DoubleType(), True),\n",
    "              StructField(' BMI ', DoubleType(), True),\n",
    "              StructField('under-five deaths', DoubleType(), True),\n",
    "              StructField('Polio', DoubleType(), True),\n",
    "              StructField('Diphtheria', DoubleType(), True),\n",
    "              StructField(' HIV/AIDS', DoubleType(), True),\n",
    "              StructField(' thinness  1-19 years', DoubleType(), True),\n",
    "              StructField(' thinness 5-9 years', DoubleType(), True)]\n",
    "final_struct = StructType(fields=data_schema)\n",
    "df = spark.read.csv('../datasets/who-data.csv', header=\"true\", schema=final_struct)\n",
    "df.printSchema()"
   ]
  },
  {
   "cell_type": "code",
   "execution_count": 3,
   "metadata": {},
   "outputs": [
    {
     "name": "stdout",
     "output_type": "stream",
     "text": [
      "                   Column         Mean  Standard Diviation   Min       Max\n",
      "0        Life expectancy     69.224932            9.523867  36.3      89.0\n",
      "1         Adult Mortality   164.796448          124.292079   1.0     723.0\n",
      "2           infant deaths    30.303948          117.926501   0.0    1800.0\n",
      "3             Hepatitis B    80.940461           25.070016   1.0      99.0\n",
      "4                 Measles  2419.592240        11467.272489   0.0  212183.0\n",
      "5                    BMI     38.321247           20.044034   1.0      87.3\n",
      "6       under-five deaths    42.035739          160.445548   0.0    2500.0\n",
      "7                   Polio    82.550188           23.428046   3.0      99.0\n",
      "8              Diphtheria    82.324084           23.716912   2.0      99.0\n",
      "9                HIV/AIDS     1.742103            5.077785   0.1      50.6\n",
      "10   thinness  1-19 years     4.839704            4.420195   0.1      27.7\n",
      "11     thinness 5-9 years     4.870317            4.508882   0.1      28.6\n"
     ]
    }
   ],
   "source": [
    "from pyspark.sql.functions import mean, stddev, min, max\n",
    "import pandas as pd\n",
    "\n",
    "columns = df.drop(*['Year', 'Country']).columns\n",
    "frame = pd.DataFrame(columns=['Column', 'Mean', 'Standard Diviation', 'Min', 'Max'])\n",
    "for col in columns:\n",
    "    dfMean = df.select(mean(df[col])).collect()\n",
    "    dfStd = df.select(stddev(df[col])).collect()\n",
    "    dfMin = df.select(min(df[col])).collect()\n",
    "    dfMax = df.select(max(df[col])).collect()\n",
    "    frame = frame.append({'Column': col, 'Mean': dfMean[0][0], 'Standard Diviation': dfStd[0][0], \n",
    "                          'Min': dfMin[0][0], 'Max': dfMax[0][0]}, ignore_index=True)\n",
    "\n",
    "print(frame)"
   ]
  },
  {
   "cell_type": "code",
   "execution_count": 4,
   "metadata": {},
   "outputs": [
    {
     "name": "stdout",
     "output_type": "stream",
     "text": [
      "+-------+-----------------+\n",
      "|summary| Life expectancy |\n",
      "+-------+-----------------+\n",
      "|  count|              183|\n",
      "|   mean|66.75027322404374|\n",
      "| stddev|10.29552807176916|\n",
      "|    min|             39.0|\n",
      "|    max|             81.1|\n",
      "+-------+-----------------+\n",
      "\n"
     ]
    }
   ],
   "source": [
    "df.filter('Year = 2000').describe('Life expectancy ').show()"
   ]
  },
  {
   "cell_type": "code",
   "execution_count": 5,
   "metadata": {},
   "outputs": [
    {
     "name": "stdout",
     "output_type": "stream",
     "text": [
      "+-------+-----------------+\n",
      "|summary| Life expectancy |\n",
      "+-------+-----------------+\n",
      "|  count|              183|\n",
      "|   mean|71.61693989071036|\n",
      "| stddev|8.123706147645304|\n",
      "|    min|             51.0|\n",
      "|    max|             88.0|\n",
      "+-------+-----------------+\n",
      "\n"
     ]
    }
   ],
   "source": [
    "df.filter('Year = 2015').describe('Life expectancy ').show()"
   ]
  },
  {
   "cell_type": "code",
   "execution_count": 6,
   "metadata": {},
   "outputs": [
    {
     "name": "stdout",
     "output_type": "stream",
     "text": [
      "+-------+----+----------------+---------------+-------------+-----------+-------+-----+-----------------+-----+----------+---------+---------------------+-------------------+\n",
      "|Country|Year|Life expectancy |Adult Mortality|infant deaths|Hepatitis B|Measles| BMI |under-five deaths|Polio|Diphtheria| HIV/AIDS| thinness  1-19 years| thinness 5-9 years|\n",
      "+-------+----+----------------+---------------+-------------+-----------+-------+-----+-----------------+-----+----------+---------+---------------------+-------------------+\n",
      "|      0|   0|              10|             10|            0|        553|      0|   34|                0|   19|        19|        0|                   34|                 34|\n",
      "+-------+----+----------------+---------------+-------------+-----------+-------+-----+-----------------+-----+----------+---------+---------------------+-------------------+\n",
      "\n"
     ]
    }
   ],
   "source": [
    "from pyspark.sql.functions import isnan, when, count, col\n",
    "df.select([count(when(isnan(c) | col(c).isNull(), c)).alias(c) for c in df.columns]).show()\n"
   ]
  },
  {
   "cell_type": "code",
   "execution_count": 7,
   "metadata": {},
   "outputs": [
    {
     "name": "stdout",
     "output_type": "stream",
     "text": [
      "root\n",
      " |-- Country: string (nullable = true)\n",
      " |-- Year: integer (nullable = true)\n",
      " |-- Status: string (nullable = true)\n",
      " |-- Alcohol: double (nullable = true)\n",
      " |-- percentage expenditure: double (nullable = true)\n",
      " |-- Total expenditure: double (nullable = true)\n",
      " |-- GDP: double (nullable = true)\n",
      " |-- Population: double (nullable = true)\n",
      " |-- Income composition of resources: double (nullable = true)\n",
      " |-- Schooling: double (nullable = true)\n",
      "\n"
     ]
    }
   ],
   "source": [
    "data_schema = [StructField('Country',StringType(),True),\n",
    "              StructField('Year',IntegerType(),True),\n",
    "              StructField('Status', StringType(), True),\n",
    "              StructField('Alcohol', DoubleType(), True),\n",
    "              StructField('percentage expenditure', DoubleType(), True),\n",
    "              StructField('Total expenditure', DoubleType(), True),\n",
    "              StructField('GDP', DoubleType(), True),\n",
    "              StructField('Population', DoubleType(), True),\n",
    "              StructField('Income composition of resources', DoubleType(), True),\n",
    "              StructField('Schooling', DoubleType(), True)]\n",
    "final_struct = StructType(fields=data_schema)\n",
    "df2 = spark.read.csv('../datasets/UN Data.csv', header=\"true\", schema=final_struct)\n",
    "df2.printSchema()"
   ]
  },
  {
   "cell_type": "code",
   "execution_count": 8,
   "metadata": {
    "scrolled": true
   },
   "outputs": [
    {
     "name": "stdout",
     "output_type": "stream",
     "text": [
      "+-----------+----+----------+-------+----------------------+-----------------+-----------+-----------+-------------------------------+---------+\n",
      "|    Country|Year|    Status|Alcohol|percentage expenditure|Total expenditure|        GDP| Population|Income composition of resources|Schooling|\n",
      "+-----------+----+----------+-------+----------------------+-----------------+-----------+-----------+-------------------------------+---------+\n",
      "|Afghanistan|2015|Developing|   0.01|           71.27962362|             8.16|  584.25921|3.3736494E7|                          0.479|     10.1|\n",
      "|Afghanistan|2014|Developing|   0.01|           73.52358168|             8.18| 612.696514|   327582.0|                          0.476|     10.0|\n",
      "|Afghanistan|2013|Developing|   0.01|           73.21924272|             8.13| 631.744976|3.1731688E7|                           0.47|      9.9|\n",
      "|Afghanistan|2012|Developing|   0.01|            78.1842153|             8.52|    669.959|  3696958.0|                          0.463|      9.8|\n",
      "|Afghanistan|2011|Developing|   0.01|           7.097108703|             7.87|  63.537231|  2978599.0|                          0.454|      9.5|\n",
      "|Afghanistan|2010|Developing|   0.01|           79.67936736|              9.2|  553.32894|  2883167.0|                          0.448|      9.2|\n",
      "|Afghanistan|2009|Developing|   0.01|           56.76221682|             9.42|445.8932979|   284331.0|                          0.434|      8.9|\n",
      "|Afghanistan|2008|Developing|   0.03|           25.87392536|             8.33|373.3611163|  2729431.0|                          0.433|      8.7|\n",
      "|Afghanistan|2007|Developing|   0.02|           10.91015598|             6.73| 369.835796|2.6616792E7|                          0.415|      8.4|\n",
      "|Afghanistan|2006|Developing|   0.03|           17.17151751|             7.43|  272.56377|  2589345.0|                          0.405|      8.1|\n",
      "|Afghanistan|2005|Developing|   0.02|           1.388647732|              8.7| 25.2941299|   257798.0|                          0.396|      7.9|\n",
      "|Afghanistan|2004|Developing|   0.02|           15.29606643|             8.79|219.1413528|2.4118979E7|                          0.381|      6.8|\n",
      "|Afghanistan|2003|Developing|   0.01|           11.08905273|             8.82|198.7285436|  2364851.0|                          0.373|      6.5|\n",
      "|Afghanistan|2002|Developing|   0.01|           16.88735091|             7.76|  187.84595|2.1979923E7|                          0.341|      6.2|\n",
      "|Afghanistan|2001|Developing|   0.01|            10.5747282|              7.8|  117.49698|  2966463.0|                           0.34|      5.9|\n",
      "|Afghanistan|2000|Developing|   0.01|              10.42496|              8.2|     114.56|   293756.0|                          0.338|      5.5|\n",
      "|    Albania|2015|Developing|    4.6|           364.9752287|              6.0| 3954.22783|    28873.0|                          0.762|     14.2|\n",
      "|    Albania|2014|Developing|   4.51|           428.7490668|             5.88|4575.763787|   288914.0|                          0.761|     14.2|\n",
      "|    Albania|2013|Developing|   4.76|           430.8769785|             5.66| 4414.72314|   289592.0|                          0.759|     14.2|\n",
      "|    Albania|2012|Developing|   5.14|           412.4433563|             5.59| 4247.61438|     2941.0|                          0.752|     14.2|\n",
      "+-----------+----+----------+-------+----------------------+-----------------+-----------+-----------+-------------------------------+---------+\n",
      "only showing top 20 rows\n",
      "\n"
     ]
    }
   ],
   "source": [
    "df2.show()"
   ]
  },
  {
   "cell_type": "code",
   "execution_count": 9,
   "metadata": {},
   "outputs": [
    {
     "name": "stdout",
     "output_type": "stream",
     "text": [
      "                            Column          Mean  Standard Diviation  \\\n",
      "0                          Alcohol  4.602861e+00        4.052413e+00   \n",
      "1           percentage expenditure  7.382513e+02        1.987915e+03   \n",
      "2                Total expenditure  5.938190e+00        2.498320e+00   \n",
      "3                              GDP  7.483158e+03        1.427017e+04   \n",
      "4                       Population  1.275338e+07        6.101210e+07   \n",
      "5  Income composition of resources  6.275511e-01        2.109036e-01   \n",
      "6                        Schooling  1.199279e+01        3.358920e+00   \n",
      "\n",
      "        Min           Max  \n",
      "0   0.01000  1.787000e+01  \n",
      "1   0.00000  1.947991e+04  \n",
      "2   0.37000  1.760000e+01  \n",
      "3   1.68135  1.191727e+05  \n",
      "4  34.00000  1.293859e+09  \n",
      "5   0.00000  9.480000e-01  \n",
      "6   0.00000  2.070000e+01  \n"
     ]
    }
   ],
   "source": [
    "columns = df2.drop(*['Year', 'Country', 'Status']).columns\n",
    "frame = pd.DataFrame(columns=['Column', 'Mean', 'Standard Diviation', 'Min', 'Max'])\n",
    "for col in columns:\n",
    "    dfMean = df2.select(mean(df2[col])).collect()\n",
    "    dfStd = df2.select(stddev(df2[col])).collect()\n",
    "    dfMin = df2.select(min(df2[col])).collect()\n",
    "    dfMax = df2.select(max(df2[col])).collect()\n",
    "    frame = frame.append({'Column': col, 'Mean': dfMean[0][0], 'Standard Diviation': dfStd[0][0], \n",
    "                          'Min': dfMin[0][0], 'Max': dfMax[0][0]}, ignore_index=True)\n",
    "\n",
    "print(frame)"
   ]
  },
  {
   "cell_type": "code",
   "execution_count": 10,
   "metadata": {},
   "outputs": [
    {
     "name": "stdout",
     "output_type": "stream",
     "text": [
      "##############\n",
      "Life expectancy \n",
      "                   Column     Coeff Category\n",
      "0         Adult Mortality -0.609053     Weak\n",
      "1           infant deaths -0.175069     Weak\n",
      "2             Hepatitis B  0.220782     Weak\n",
      "3                 Measles -0.140250     Weak\n",
      "4                    BMI   0.507116     Weak\n",
      "5       under-five deaths -0.198861     Weak\n",
      "6                   Polio  0.427613     Weak\n",
      "7              Diphtheria  0.439868     Weak\n",
      "8                HIV/AIDS -0.504904     Weak\n",
      "9    thinness  1-19 years -0.397560     Weak\n",
      "10     thinness 5-9 years -0.392858     Weak\n",
      "##############\n",
      "Adult Mortality\n",
      "                   Column     Coeff Category\n",
      "0        Life expectancy  -0.609053     Weak\n",
      "1           infant deaths  0.079671     Weak\n",
      "2             Hepatitis B -0.136102     Weak\n",
      "3                 Measles  0.032032     Weak\n",
      "4                    BMI  -0.397616     Weak\n",
      "5       under-five deaths  0.095036     Weak\n",
      "6                   Polio -0.280854     Weak\n",
      "7              Diphtheria -0.281226     Weak\n",
      "8                HIV/AIDS  0.523625     Weak\n",
      "9    thinness  1-19 years  0.288761     Weak\n",
      "10     thinness 5-9 years  0.294409     Weak\n",
      "##############\n",
      "infant deaths\n",
      "                   Column     Coeff Category\n",
      "0        Life expectancy  -0.175069     Weak\n",
      "1         Adult Mortality  0.079671     Weak\n",
      "2             Hepatitis B -0.139252     Weak\n",
      "3                 Measles  0.501128     Weak\n",
      "4                    BMI  -0.224995     Weak\n",
      "5       under-five deaths  0.996629   Strong\n",
      "6                   Polio -0.161685     Weak\n",
      "7              Diphtheria -0.166218     Weak\n",
      "8                HIV/AIDS  0.025231     Weak\n",
      "9    thinness  1-19 years  0.460979     Weak\n",
      "10     thinness 5-9 years  0.466683     Weak\n",
      "##############\n",
      "Hepatitis B\n",
      "                   Column     Coeff Category\n",
      "0        Life expectancy   0.220782     Weak\n",
      "1         Adult Mortality -0.136102     Weak\n",
      "2           infant deaths -0.139252     Weak\n",
      "3                 Measles -0.120372     Weak\n",
      "4                    BMI   0.182383     Weak\n",
      "5       under-five deaths -0.152917     Weak\n",
      "6                   Polio  0.420626     Weak\n",
      "7              Diphtheria  0.494625     Weak\n",
      "8                HIV/AIDS -0.124786     Weak\n",
      "9    thinness  1-19 years -0.073249     Weak\n",
      "10     thinness 5-9 years -0.075832     Weak\n",
      "##############\n",
      "Measles\n",
      "                   Column     Coeff Category\n",
      "0        Life expectancy  -0.140250     Weak\n",
      "1         Adult Mortality  0.032032     Weak\n",
      "2           infant deaths  0.501128     Weak\n",
      "3             Hepatitis B -0.120372     Weak\n",
      "4                    BMI  -0.170780     Weak\n",
      "5       under-five deaths  0.507809     Weak\n",
      "6                   Polio -0.126345     Weak\n",
      "7              Diphtheria -0.132058     Weak\n",
      "8                HIV/AIDS  0.030899     Weak\n",
      "9    thinness  1-19 years  0.224091     Weak\n",
      "10     thinness 5-9 years  0.220410     Weak\n",
      "##############\n",
      " BMI \n",
      "                   Column     Coeff Category\n",
      "0        Life expectancy   0.507116     Weak\n",
      "1         Adult Mortality -0.397616     Weak\n",
      "2           infant deaths -0.224995     Weak\n",
      "3             Hepatitis B  0.182383     Weak\n",
      "4                 Measles -0.170780     Weak\n",
      "5       under-five deaths -0.235946     Weak\n",
      "6                   Polio  0.296469     Weak\n",
      "7              Diphtheria  0.294750     Weak\n",
      "8                HIV/AIDS -0.239067     Weak\n",
      "9    thinness  1-19 years -0.493962     Weak\n",
      "10     thinness 5-9 years -0.501069     Weak\n",
      "##############\n",
      "under-five deaths\n",
      "                   Column     Coeff Category\n",
      "0        Life expectancy  -0.198861     Weak\n",
      "1         Adult Mortality  0.095036     Weak\n",
      "2           infant deaths  0.996629   Strong\n",
      "3             Hepatitis B -0.152917     Weak\n",
      "4                 Measles  0.507809     Weak\n",
      "5                    BMI  -0.235946     Weak\n",
      "6                   Polio -0.179404     Weak\n",
      "7              Diphtheria -0.186325     Weak\n",
      "8                HIV/AIDS  0.038062     Weak\n",
      "9    thinness  1-19 years  0.462538     Weak\n",
      "10     thinness 5-9 years  0.467090     Weak\n",
      "##############\n",
      "Polio\n",
      "                   Column     Coeff Category\n",
      "0        Life expectancy   0.427613     Weak\n",
      "1         Adult Mortality -0.280854     Weak\n",
      "2           infant deaths -0.161685     Weak\n",
      "3             Hepatitis B  0.420626     Weak\n",
      "4                 Measles -0.126345     Weak\n",
      "5                    BMI   0.296469     Weak\n",
      "6       under-five deaths -0.179404     Weak\n",
      "7              Diphtheria  0.697484     Weak\n",
      "8                HIV/AIDS -0.155407     Weak\n",
      "9    thinness  1-19 years -0.191103     Weak\n",
      "10     thinness 5-9 years -0.192173     Weak\n",
      "##############\n",
      "Diphtheria\n",
      "                   Column     Coeff Category\n",
      "0        Life expectancy   0.439868     Weak\n",
      "1         Adult Mortality -0.281226     Weak\n",
      "2           infant deaths -0.166218     Weak\n",
      "3             Hepatitis B  0.494625     Weak\n",
      "4                 Measles -0.132058     Weak\n",
      "5                    BMI   0.294750     Weak\n",
      "6       under-five deaths -0.186325     Weak\n",
      "7                   Polio  0.697484     Weak\n",
      "8                HIV/AIDS -0.160651     Weak\n",
      "9    thinness  1-19 years -0.199459     Weak\n",
      "10     thinness 5-9 years -0.193360     Weak\n",
      "##############\n",
      " HIV/AIDS\n",
      "                   Column     Coeff Category\n",
      "0        Life expectancy  -0.504904     Weak\n",
      "1         Adult Mortality  0.523625     Weak\n",
      "2           infant deaths  0.025231     Weak\n",
      "3             Hepatitis B -0.124786     Weak\n",
      "4                 Measles  0.030899     Weak\n",
      "5                    BMI  -0.239067     Weak\n",
      "6       under-five deaths  0.038062     Weak\n",
      "7                   Polio -0.155407     Weak\n",
      "8              Diphtheria -0.160651     Weak\n",
      "9    thinness  1-19 years  0.202223     Weak\n",
      "10     thinness 5-9 years  0.205460     Weak\n",
      "##############\n",
      " thinness  1-19 years\n",
      "                 Column     Coeff Category\n",
      "0      Life expectancy  -0.397560     Weak\n",
      "1       Adult Mortality  0.288761     Weak\n",
      "2         infant deaths  0.460979     Weak\n",
      "3           Hepatitis B -0.073249     Weak\n",
      "4               Measles  0.224091     Weak\n",
      "5                  BMI  -0.493962     Weak\n",
      "6     under-five deaths  0.462538     Weak\n",
      "7                 Polio -0.191103     Weak\n",
      "8            Diphtheria -0.199459     Weak\n",
      "9              HIV/AIDS  0.202223     Weak\n",
      "10   thinness 5-9 years  0.939923   Strong\n",
      "##############\n",
      " thinness 5-9 years\n",
      "                   Column     Coeff Category\n",
      "0        Life expectancy  -0.392858     Weak\n",
      "1         Adult Mortality  0.294409     Weak\n",
      "2           infant deaths  0.466683     Weak\n",
      "3             Hepatitis B -0.075832     Weak\n",
      "4                 Measles  0.220410     Weak\n",
      "5                    BMI  -0.501069     Weak\n",
      "6       under-five deaths  0.467090     Weak\n",
      "7                   Polio -0.192173     Weak\n",
      "8              Diphtheria -0.193360     Weak\n",
      "9                HIV/AIDS  0.205460     Weak\n",
      "10   thinness  1-19 years  0.939923   Strong\n"
     ]
    }
   ],
   "source": [
    "from pyspark.sql.types import (StructField)\n",
    "import pandas as pd\n",
    "columns = df.drop(*['Year', 'Country']).columns\n",
    "for col1 in columns:\n",
    "    correlationMatrix = pd.DataFrame(columns=['Column', 'Coeff', 'Category'])\n",
    "    for col2 in columns:\n",
    "        if col1 != col2:\n",
    "            correlation = df.stat.corr(col1, col2)\n",
    "            cat = 'Strong' if abs(correlation) > 0.7 else 'Weak'\n",
    "            correlationMatrix = correlationMatrix.append({'Column': col2, 'Coeff': correlation, 'Category': cat}, ignore_index=True)\n",
    "    print('##############')\n",
    "    print(col1)\n",
    "    print(correlationMatrix)\n"
   ]
  },
  {
   "cell_type": "code",
   "execution_count": 11,
   "metadata": {},
   "outputs": [
    {
     "name": "stdout",
     "output_type": "stream",
     "text": [
      "['Country', 'Year', 'Life expectancy ', 'Adult Mortality', 'Hepatitis B', 'Measles', ' BMI ', 'under-five deaths', 'Polio', 'Diphtheria', ' HIV/AIDS', ' thinness  1-19 years']\n"
     ]
    }
   ],
   "source": [
    "df = df.drop(*['infant deaths', ' thinness 5-9 years'])\n",
    "print(df.columns)"
   ]
  },
  {
   "cell_type": "code",
   "execution_count": 12,
   "metadata": {
    "scrolled": true
   },
   "outputs": [],
   "source": [
    "df = df.na.drop(subset=\"Life expectancy \")"
   ]
  },
  {
   "cell_type": "code",
   "execution_count": 13,
   "metadata": {},
   "outputs": [],
   "source": [
    "from pyspark.sql.functions import mean\n",
    "meanHep = df.select(mean(df['Hepatitis B'])).collect()\n",
    "meanBMI = df.select(mean(df[' BMI '])).collect()\n",
    "meanPolio = df.select(mean(df['Polio'])).collect()\n",
    "meanDiph = df.select(mean(df['Diphtheria'])).collect()\n",
    "meanthin = df.select(mean(df[' thinness  1-19 years'])).collect()\n",
    "df = df.na.fill(meanHep[0][0], subset=['Hepatitis B'])\n",
    "df = df.na.fill(meanBMI[0][0], subset=[' BMI '])\n",
    "df = df.na.fill(meanPolio[0][0], subset=['Polio'])\n",
    "df = df.na.fill(meanDiph[0][0], subset=['Diphtheria'])\n",
    "df = df.na.fill(meanDiph[0][0], subset=[' thinness  1-19 years'])\n"
   ]
  },
  {
   "cell_type": "code",
   "execution_count": 14,
   "metadata": {},
   "outputs": [
    {
     "name": "stdout",
     "output_type": "stream",
     "text": [
      "['Country', 'Year', 'Life expectancy ', 'Adult Mortality', 'Hepatitis B', 'Measles', 'under-five deaths', 'Polio', 'Diphtheria', ' HIV/AIDS', ' thinness  1-19 years']\n"
     ]
    }
   ],
   "source": [
    "df = df.drop(*[' BMI '])\n",
    "print(df.columns)"
   ]
  },
  {
   "cell_type": "code",
   "execution_count": 15,
   "metadata": {},
   "outputs": [
    {
     "name": "stdout",
     "output_type": "stream",
     "text": [
      "['Country', 'Year', 'Life expectancy ', 'Adult Mortality', 'Hepatitis B', 'Measles', 'under-five deaths', 'Polio', 'Diphtheria', ' HIV/AIDS', ' thinness  1-19 years']\n",
      "['Country', 'Year', 'Status', 'Alcohol', 'percentage expenditure', 'Total expenditure', 'GDP', 'Population', 'Income composition of resources', 'Schooling']\n"
     ]
    }
   ],
   "source": [
    "print(df.columns)\n",
    "print(df2.columns)"
   ]
  },
  {
   "cell_type": "code",
   "execution_count": 16,
   "metadata": {},
   "outputs": [
    {
     "name": "stdout",
     "output_type": "stream",
     "text": [
      "+-----------+----+----------------+---------------+-----------+-------+-----------------+-----+----------+---------+---------------------+----------+-------+----------------------+-----------------+-----------+-----------+-------------------------------+---------+\n",
      "|    Country|Year|Life expectancy |Adult Mortality|Hepatitis B|Measles|under-five deaths|Polio|Diphtheria| HIV/AIDS| thinness  1-19 years|    Status|Alcohol|percentage expenditure|Total expenditure|        GDP| Population|Income composition of resources|Schooling|\n",
      "+-----------+----+----------------+---------------+-----------+-------+-----------------+-----+----------+---------+---------------------+----------+-------+----------------------+-----------------+-----------+-----------+-------------------------------+---------+\n",
      "|Afghanistan|2015|            65.0|          263.0|       65.0| 1154.0|             83.0|  6.0|      65.0|      0.1|                 17.2|Developing|   0.01|           71.27962362|             8.16|  584.25921|3.3736494E7|                          0.479|     10.1|\n",
      "|Afghanistan|2014|            59.9|          271.0|       62.0|  492.0|             86.0| 58.0|      62.0|      0.1|                 17.5|Developing|   0.01|           73.52358168|             8.18| 612.696514|   327582.0|                          0.476|     10.0|\n",
      "|Afghanistan|2013|            59.9|          268.0|       64.0|  430.0|             89.0| 62.0|      64.0|      0.1|                 17.7|Developing|   0.01|           73.21924272|             8.13| 631.744976|3.1731688E7|                           0.47|      9.9|\n",
      "|Afghanistan|2012|            59.5|          272.0|       67.0| 2787.0|             93.0| 67.0|      67.0|      0.1|                 17.9|Developing|   0.01|            78.1842153|             8.52|    669.959|  3696958.0|                          0.463|      9.8|\n",
      "|Afghanistan|2011|            59.2|          275.0|       68.0| 3013.0|             97.0| 68.0|      68.0|      0.1|                 18.2|Developing|   0.01|           7.097108703|             7.87|  63.537231|  2978599.0|                          0.454|      9.5|\n",
      "|Afghanistan|2010|            58.8|          279.0|       66.0| 1989.0|            102.0| 66.0|      66.0|      0.1|                 18.4|Developing|   0.01|           79.67936736|              9.2|  553.32894|  2883167.0|                          0.448|      9.2|\n",
      "|Afghanistan|2009|            58.6|          281.0|       63.0| 2861.0|            106.0| 63.0|      63.0|      0.1|                 18.6|Developing|   0.01|           56.76221682|             9.42|445.8932979|   284331.0|                          0.434|      8.9|\n",
      "|Afghanistan|2008|            58.1|          287.0|       64.0| 1599.0|            110.0| 64.0|      64.0|      0.1|                 18.8|Developing|   0.03|           25.87392536|             8.33|373.3611163|  2729431.0|                          0.433|      8.7|\n",
      "|Afghanistan|2007|            57.5|          295.0|       63.0| 1141.0|            113.0| 63.0|      63.0|      0.1|                 19.0|Developing|   0.02|           10.91015598|             6.73| 369.835796|2.6616792E7|                          0.415|      8.4|\n",
      "|Afghanistan|2006|            57.3|          295.0|       64.0| 1990.0|            116.0| 58.0|      58.0|      0.1|                 19.2|Developing|   0.03|           17.17151751|             7.43|  272.56377|  2589345.0|                          0.405|      8.1|\n",
      "|Afghanistan|2005|            57.3|          291.0|       66.0| 1296.0|            118.0| 58.0|      58.0|      0.1|                 19.3|Developing|   0.02|           1.388647732|              8.7| 25.2941299|   257798.0|                          0.396|      7.9|\n",
      "|Afghanistan|2004|            57.0|          293.0|       67.0|  466.0|            120.0|  5.0|       5.0|      0.1|                 19.5|Developing|   0.02|           15.29606643|             8.79|219.1413528|2.4118979E7|                          0.381|      6.8|\n",
      "|Afghanistan|2003|            56.7|          295.0|       65.0|  798.0|            122.0| 41.0|      41.0|      0.1|                 19.7|Developing|   0.01|           11.08905273|             8.82|198.7285436|  2364851.0|                          0.373|      6.5|\n",
      "|Afghanistan|2002|            56.2|            3.0|       64.0| 2486.0|            122.0| 36.0|      36.0|      0.1|                 19.9|Developing|   0.01|           16.88735091|             7.76|  187.84595|2.1979923E7|                          0.341|      6.2|\n",
      "|Afghanistan|2001|            55.3|          316.0|       63.0| 8762.0|            122.0| 35.0|      33.0|      0.1|                  2.1|Developing|   0.01|            10.5747282|              7.8|  117.49698|  2966463.0|                           0.34|      5.9|\n",
      "|Afghanistan|2000|            54.8|          321.0|       62.0| 6532.0|            122.0| 24.0|      24.0|      0.1|                  2.3|Developing|   0.01|              10.42496|              8.2|     114.56|   293756.0|                          0.338|      5.5|\n",
      "|    Albania|2015|            77.8|           74.0|       99.0|    0.0|              0.0| 99.0|      99.0|      0.1|                  1.2|Developing|    4.6|           364.9752287|              6.0| 3954.22783|    28873.0|                          0.762|     14.2|\n",
      "|    Albania|2014|            77.5|            8.0|       98.0|    0.0|              1.0| 98.0|      98.0|      0.1|                  1.2|Developing|   4.51|           428.7490668|             5.88|4575.763787|   288914.0|                          0.761|     14.2|\n",
      "|    Albania|2013|            77.2|           84.0|       99.0|    0.0|              1.0| 99.0|      99.0|      0.1|                  1.3|Developing|   4.76|           430.8769785|             5.66| 4414.72314|   289592.0|                          0.759|     14.2|\n",
      "|    Albania|2012|            76.9|           86.0|       99.0|    9.0|              1.0| 99.0|      99.0|      0.1|                  1.3|Developing|   5.14|           412.4433563|             5.59| 4247.61438|     2941.0|                          0.752|     14.2|\n",
      "+-----------+----+----------------+---------------+-----------+-------+-----------------+-----+----------+---------+---------------------+----------+-------+----------------------+-----------------+-----------+-----------+-------------------------------+---------+\n",
      "only showing top 20 rows\n",
      "\n"
     ]
    }
   ],
   "source": [
    "dfMerged = df.join(df2, ['Country', 'Year'], 'inner')\n",
    "dfMerged.show()"
   ]
  },
  {
   "cell_type": "code",
   "execution_count": 17,
   "metadata": {},
   "outputs": [
    {
     "name": "stdout",
     "output_type": "stream",
     "text": [
      "['Country', 'Year', 'Life expectancy ', 'Adult Mortality', 'Hepatitis B', 'Measles', 'under-five deaths', 'Polio', 'Diphtheria', ' HIV/AIDS', ' thinness  1-19 years', 'Status', 'Alcohol', 'percentage expenditure', 'Total expenditure', 'GDP', 'Population', 'Income composition of resources', 'Schooling']\n"
     ]
    }
   ],
   "source": [
    "print(dfMerged.columns)"
   ]
  },
  {
   "cell_type": "code",
   "execution_count": 18,
   "metadata": {},
   "outputs": [
    {
     "name": "stdout",
     "output_type": "stream",
     "text": [
      "##############\n",
      "Life expectancy \n",
      "                             Column     Coeff Category\n",
      "0                   Adult Mortality -0.690332     Weak\n",
      "1                       Hepatitis B  0.199664     Weak\n",
      "2                           Measles -0.159843     Weak\n",
      "3                 under-five deaths -0.221951     Weak\n",
      "4                             Polio  0.461302     Weak\n",
      "5                        Diphtheria  0.476581     Weak\n",
      "6                          HIV/AIDS -0.556661     Weak\n",
      "7              thinness  1-19 years -0.339114     Weak\n",
      "8                           Alcohol  0.370456     Weak\n",
      "9            percentage expenditure  0.382148     Weak\n",
      "10                Total expenditure  0.176434     Weak\n",
      "11                              GDP  0.428908     Weak\n",
      "12                       Population -0.032304     Weak\n",
      "13  Income composition of resources  0.589494     Weak\n",
      "14                        Schooling  0.574154     Weak\n",
      "##############\n",
      "Adult Mortality\n",
      "                             Column     Coeff Category\n",
      "0                  Life expectancy  -0.690332     Weak\n",
      "1                       Hepatitis B -0.132854     Weak\n",
      "2                           Measles  0.031987     Weak\n",
      "3                 under-five deaths  0.092200     Weak\n",
      "4                             Polio -0.269043     Weak\n",
      "5                        Diphtheria -0.271160     Weak\n",
      "6                          HIV/AIDS  0.523991     Weak\n",
      "7              thinness  1-19 years  0.240966     Weak\n",
      "8                           Alcohol -0.184817     Weak\n",
      "9            percentage expenditure -0.241981     Weak\n",
      "10                Total expenditure -0.105853     Weak\n",
      "11                              GDP -0.280360     Weak\n",
      "12                       Population -0.002503     Weak\n",
      "13  Income composition of resources -0.379235     Weak\n",
      "14                        Schooling -0.354574     Weak\n",
      "##############\n",
      "Hepatitis B\n",
      "                             Column     Coeff Category\n",
      "0                  Life expectancy   0.199664     Weak\n",
      "1                   Adult Mortality -0.132854     Weak\n",
      "2                           Measles -0.091021     Weak\n",
      "3                 under-five deaths -0.185159     Weak\n",
      "4                             Polio  0.403473     Weak\n",
      "5                        Diphtheria  0.496390     Weak\n",
      "6                          HIV/AIDS -0.101005     Weak\n",
      "7              thinness  1-19 years -0.069491     Weak\n",
      "8                           Alcohol  0.066538     Weak\n",
      "9            percentage expenditure  0.010593     Weak\n",
      "10                Total expenditure  0.043895     Weak\n",
      "11                              GDP  0.056355     Weak\n",
      "12                       Population -0.122918     Weak\n",
      "13  Income composition of resources  0.115449     Weak\n",
      "14                        Schooling  0.117005     Weak\n",
      "##############\n",
      "Measles\n",
      "                             Column     Coeff Category\n",
      "0                  Life expectancy  -0.159843     Weak\n",
      "1                   Adult Mortality  0.031987     Weak\n",
      "2                       Hepatitis B -0.091021     Weak\n",
      "3                 under-five deaths  0.507958     Weak\n",
      "4                             Polio -0.136470     Weak\n",
      "5                        Diphtheria -0.142571     Weak\n",
      "6                          HIV/AIDS  0.030600     Weak\n",
      "7              thinness  1-19 years  0.101781     Weak\n",
      "8                           Alcohol -0.043563     Weak\n",
      "9            percentage expenditure -0.056987     Weak\n",
      "10                Total expenditure -0.075884     Weak\n",
      "11                              GDP -0.069815     Weak\n",
      "12                       Population  0.237066     Weak\n",
      "13  Income composition of resources -0.146170     Weak\n",
      "14                        Schooling -0.152797     Weak\n",
      "##############\n",
      "under-five deaths\n",
      "                             Column     Coeff Category\n",
      "0                  Life expectancy  -0.221951     Weak\n",
      "1                   Adult Mortality  0.092200     Weak\n",
      "2                       Hepatitis B -0.185159     Weak\n",
      "3                           Measles  0.507958     Weak\n",
      "4                             Polio -0.188775     Weak\n",
      "5                        Diphtheria -0.195706     Weak\n",
      "6                          HIV/AIDS  0.036893     Weak\n",
      "7              thinness  1-19 years  0.239835     Weak\n",
      "8                           Alcohol -0.102473     Weak\n",
      "9            percentage expenditure -0.087637     Weak\n",
      "10                Total expenditure -0.099268     Weak\n",
      "11                              GDP -0.103976     Weak\n",
      "12                       Population  0.539767     Weak\n",
      "13  Income composition of resources -0.153860     Weak\n",
      "14                        Schooling -0.184868     Weak\n",
      "##############\n",
      "Polio\n",
      "                             Column     Coeff Category\n",
      "0                  Life expectancy   0.461302     Weak\n",
      "1                   Adult Mortality -0.269043     Weak\n",
      "2                       Hepatitis B  0.403473     Weak\n",
      "3                           Measles -0.136470     Weak\n",
      "4                 under-five deaths -0.188775     Weak\n",
      "5                        Diphtheria  0.673836     Weak\n",
      "6                          HIV/AIDS -0.157458     Weak\n",
      "7              thinness  1-19 years -0.149941     Weak\n",
      "8                           Alcohol  0.205467     Weak\n",
      "9            percentage expenditure  0.146826     Weak\n",
      "10                Total expenditure  0.128888     Weak\n",
      "11                              GDP  0.189232     Weak\n",
      "12                       Population -0.046564     Weak\n",
      "13  Income composition of resources  0.308575     Weak\n",
      "14                        Schooling  0.313657     Weak\n",
      "##############\n",
      "Diphtheria\n",
      "                             Column     Coeff Category\n",
      "0                  Life expectancy   0.476581     Weak\n",
      "1                   Adult Mortality -0.271160     Weak\n",
      "2                       Hepatitis B  0.496390     Weak\n",
      "3                           Measles -0.142571     Weak\n",
      "4                 under-five deaths -0.195706     Weak\n",
      "5                             Polio  0.673836     Weak\n",
      "6                          HIV/AIDS -0.163955     Weak\n",
      "7              thinness  1-19 years -0.150595     Weak\n",
      "8                           Alcohol  0.202465     Weak\n",
      "9            percentage expenditure  0.143205     Weak\n",
      "10                Total expenditure  0.141892     Weak\n",
      "11                              GDP  0.182275     Weak\n",
      "12                       Population -0.034302     Weak\n",
      "13  Income composition of resources  0.345173     Weak\n",
      "14                        Schooling  0.342903     Weak\n",
      "##############\n",
      " HIV/AIDS\n",
      "                             Column     Coeff Category\n",
      "0                  Life expectancy  -0.556661     Weak\n",
      "1                   Adult Mortality  0.523991     Weak\n",
      "2                       Hepatitis B -0.101005     Weak\n",
      "3                           Measles  0.030600     Weak\n",
      "4                 under-five deaths  0.036893     Weak\n",
      "5                             Polio -0.157458     Weak\n",
      "6                        Diphtheria -0.163955     Weak\n",
      "7              thinness  1-19 years  0.101119     Weak\n",
      "8                           Alcohol -0.034528     Weak\n",
      "9            percentage expenditure -0.097210     Weak\n",
      "10                Total expenditure  0.029692     Weak\n",
      "11                              GDP -0.117614     Weak\n",
      "12                       Population -0.015488     Weak\n",
      "13  Income composition of resources -0.192693     Weak\n",
      "14                        Schooling -0.156854     Weak\n",
      "##############\n",
      " thinness  1-19 years\n",
      "                             Column     Coeff Category\n",
      "0                  Life expectancy  -0.339114     Weak\n",
      "1                   Adult Mortality  0.240966     Weak\n",
      "2                       Hepatitis B -0.069491     Weak\n",
      "3                           Measles  0.101781     Weak\n",
      "4                 under-five deaths  0.239835     Weak\n",
      "5                             Polio -0.149941     Weak\n",
      "6                        Diphtheria -0.150595     Weak\n",
      "7                          HIV/AIDS  0.101119     Weak\n",
      "8                           Alcohol -0.273217     Weak\n",
      "9            percentage expenditure -0.152528     Weak\n",
      "10                Total expenditure -0.187835     Weak\n",
      "11                              GDP -0.164206     Weak\n",
      "12                       Population  0.114972     Weak\n",
      "13  Income composition of resources -0.267915     Weak\n",
      "14                        Schooling -0.321995     Weak\n",
      "##############\n",
      "Alcohol\n",
      "                             Column     Coeff Category\n",
      "0                  Life expectancy   0.370456     Weak\n",
      "1                   Adult Mortality -0.184817     Weak\n",
      "2                       Hepatitis B  0.066538     Weak\n",
      "3                           Measles -0.043563     Weak\n",
      "4                 under-five deaths -0.102473     Weak\n",
      "5                             Polio  0.205467     Weak\n",
      "6                        Diphtheria  0.202465     Weak\n",
      "7                          HIV/AIDS -0.034528     Weak\n",
      "8              thinness  1-19 years -0.273217     Weak\n",
      "9            percentage expenditure  0.352938     Weak\n",
      "10                Total expenditure  0.398032     Weak\n",
      "11                              GDP  0.300915     Weak\n",
      "12                       Population -0.024456     Weak\n",
      "13  Income composition of resources  0.270797     Weak\n",
      "14                        Schooling  0.308708     Weak\n"
     ]
    },
    {
     "name": "stdout",
     "output_type": "stream",
     "text": [
      "##############\n",
      "percentage expenditure\n",
      "                             Column     Coeff Category\n",
      "0                  Life expectancy   0.382148     Weak\n",
      "1                   Adult Mortality -0.241981     Weak\n",
      "2                       Hepatitis B  0.010593     Weak\n",
      "3                           Measles -0.056987     Weak\n",
      "4                 under-five deaths -0.087637     Weak\n",
      "5                             Polio  0.146826     Weak\n",
      "6                        Diphtheria  0.143205     Weak\n",
      "7                          HIV/AIDS -0.097210     Weak\n",
      "8              thinness  1-19 years -0.152528     Weak\n",
      "9                           Alcohol  0.352938     Weak\n",
      "10                Total expenditure  0.205634     Weak\n",
      "11                              GDP  0.901603   Strong\n",
      "12                       Population -0.016515     Weak\n",
      "13  Income composition of resources  0.364601     Weak\n",
      "14                        Schooling  0.357999     Weak\n",
      "##############\n",
      "Total expenditure\n",
      "                             Column     Coeff Category\n",
      "0                  Life expectancy   0.176434     Weak\n",
      "1                   Adult Mortality -0.105853     Weak\n",
      "2                       Hepatitis B  0.043895     Weak\n",
      "3                           Measles -0.075884     Weak\n",
      "4                 under-five deaths -0.099268     Weak\n",
      "5                             Polio  0.128888     Weak\n",
      "6                        Diphtheria  0.141892     Weak\n",
      "7                          HIV/AIDS  0.029692     Weak\n",
      "8              thinness  1-19 years -0.187835     Weak\n",
      "9                           Alcohol  0.398032     Weak\n",
      "10           percentage expenditure  0.205634     Weak\n",
      "11                              GDP  0.108756     Weak\n",
      "12                       Population -0.043317     Weak\n",
      "13  Income composition of resources  0.092639     Weak\n",
      "14                        Schooling  0.149281     Weak\n",
      "##############\n",
      "GDP\n",
      "                             Column     Coeff Category\n",
      "0                  Life expectancy   0.428908     Weak\n",
      "1                   Adult Mortality -0.280360     Weak\n",
      "2                       Hepatitis B  0.056355     Weak\n",
      "3                           Measles -0.069815     Weak\n",
      "4                 under-five deaths -0.103976     Weak\n",
      "5                             Polio  0.189232     Weak\n",
      "6                        Diphtheria  0.182275     Weak\n",
      "7                          HIV/AIDS -0.117614     Weak\n",
      "8              thinness  1-19 years -0.164206     Weak\n",
      "9                           Alcohol  0.300915     Weak\n",
      "10           percentage expenditure  0.901603   Strong\n",
      "11                Total expenditure  0.108756     Weak\n",
      "12                       Population -0.022279     Weak\n",
      "13  Income composition of resources  0.427334     Weak\n",
      "14                        Schooling  0.408267     Weak\n",
      "##############\n",
      "Population\n",
      "                             Column     Coeff Category\n",
      "0                  Life expectancy  -0.032304     Weak\n",
      "1                   Adult Mortality -0.002503     Weak\n",
      "2                       Hepatitis B -0.122918     Weak\n",
      "3                           Measles  0.237066     Weak\n",
      "4                 under-five deaths  0.539767     Weak\n",
      "5                             Polio -0.046564     Weak\n",
      "6                        Diphtheria -0.034302     Weak\n",
      "7                          HIV/AIDS -0.015488     Weak\n",
      "8              thinness  1-19 years  0.114972     Weak\n",
      "9                           Alcohol -0.024456     Weak\n",
      "10           percentage expenditure -0.016515     Weak\n",
      "11                Total expenditure -0.043317     Weak\n",
      "12                              GDP -0.022279     Weak\n",
      "13  Income composition of resources  0.010063     Weak\n",
      "14                        Schooling -0.002950     Weak\n",
      "##############\n",
      "Income composition of resources\n",
      "                    Column     Coeff Category\n",
      "0         Life expectancy   0.589494     Weak\n",
      "1          Adult Mortality -0.379235     Weak\n",
      "2              Hepatitis B  0.115449     Weak\n",
      "3                  Measles -0.146170     Weak\n",
      "4        under-five deaths -0.153860     Weak\n",
      "5                    Polio  0.308575     Weak\n",
      "6               Diphtheria  0.345173     Weak\n",
      "7                 HIV/AIDS -0.192693     Weak\n",
      "8     thinness  1-19 years -0.267915     Weak\n",
      "9                  Alcohol  0.270797     Weak\n",
      "10  percentage expenditure  0.364601     Weak\n",
      "11       Total expenditure  0.092639     Weak\n",
      "12                     GDP  0.427334     Weak\n",
      "13              Population  0.010063     Weak\n",
      "14               Schooling  0.865669   Strong\n",
      "##############\n",
      "Schooling\n",
      "                             Column     Coeff Category\n",
      "0                  Life expectancy   0.574154     Weak\n",
      "1                   Adult Mortality -0.354574     Weak\n",
      "2                       Hepatitis B  0.117005     Weak\n",
      "3                           Measles -0.152797     Weak\n",
      "4                 under-five deaths -0.184868     Weak\n",
      "5                             Polio  0.313657     Weak\n",
      "6                        Diphtheria  0.342903     Weak\n",
      "7                          HIV/AIDS -0.156854     Weak\n",
      "8              thinness  1-19 years -0.321995     Weak\n",
      "9                           Alcohol  0.308708     Weak\n",
      "10           percentage expenditure  0.357999     Weak\n",
      "11                Total expenditure  0.149281     Weak\n",
      "12                              GDP  0.408267     Weak\n",
      "13                       Population -0.002950     Weak\n",
      "14  Income composition of resources  0.865669   Strong\n"
     ]
    }
   ],
   "source": [
    "columns = dfMerged.drop(*['Year', 'Country', 'Status']).columns\n",
    "for col1 in columns:\n",
    "    correlationMatrix = pd.DataFrame(columns=['Column', 'Coeff', 'Category'])\n",
    "    for col2 in columns:\n",
    "        if col1 != col2:\n",
    "            correlation = dfMerged.stat.corr(col1, col2)\n",
    "            cat = 'Strong' if abs(correlation) > 0.7 else 'Weak'\n",
    "            correlationMatrix = correlationMatrix.append({'Column': col2, 'Coeff': correlation, 'Category': cat}, ignore_index=True)\n",
    "    print('##############')\n",
    "    print(col1)\n",
    "    print(correlationMatrix)"
   ]
  },
  {
   "cell_type": "code",
   "execution_count": 19,
   "metadata": {},
   "outputs": [
    {
     "name": "stdout",
     "output_type": "stream",
     "text": [
      "['Country', 'Year', 'Life expectancy ', 'Adult Mortality', 'Hepatitis B', 'Measles', 'under-five deaths', 'Polio', 'Diphtheria', ' HIV/AIDS', ' thinness  1-19 years', 'Status', 'Alcohol', 'Total expenditure', 'GDP', 'Population', 'Schooling']\n"
     ]
    }
   ],
   "source": [
    "dfMerged = dfMerged.drop(*['Income composition of resources', 'percentage expenditure'])\n",
    "print(dfMerged.columns)"
   ]
  },
  {
   "cell_type": "code",
   "execution_count": null,
   "metadata": {},
   "outputs": [],
   "source": []
  },
  {
   "cell_type": "code",
   "execution_count": 20,
   "metadata": {},
   "outputs": [],
   "source": [
    "meanschooling = dfMerged.select(mean(dfMerged['Schooling'])).collect()\n",
    "meanpopulation = dfMerged.select(mean(dfMerged['Population'])).collect()\n",
    "meangdp = dfMerged.select(mean(dfMerged['GDP'])).collect()\n",
    "meantotexp = dfMerged.select(mean(dfMerged['Total expenditure'])).collect()\n",
    "meanalcohol = dfMerged.select(mean(dfMerged['Alcohol'])).collect()\n",
    "dfMerged = dfMerged.na.fill(meanschooling[0][0], subset=['Schooling'])\n",
    "dfMerged = dfMerged.na.fill(meanpopulation[0][0], subset=['Population'])\n",
    "dfMerged = dfMerged.na.fill(meangdp[0][0], subset=['GDP'])\n",
    "dfMerged = dfMerged.na.fill(meantotexp[0][0], subset=['Total expenditure'])\n",
    "dfMerged = dfMerged.na.fill(meanalcohol[0][0], subset=['Alcohol'])\n"
   ]
  },
  {
   "cell_type": "code",
   "execution_count": 21,
   "metadata": {},
   "outputs": [
    {
     "name": "stdout",
     "output_type": "stream",
     "text": [
      "+-----------+----+----------------+---------------+-----------+-------+-----------------+-----+----------+---------+---------------------+----------+-------+-----------------+-----------+-----------+---------+\n",
      "|    Country|Year|Life expectancy |Adult Mortality|Hepatitis B|Measles|under-five deaths|Polio|Diphtheria| HIV/AIDS| thinness  1-19 years|    Status|Alcohol|Total expenditure|        GDP| Population|Schooling|\n",
      "+-----------+----+----------------+---------------+-----------+-------+-----------------+-----+----------+---------+---------------------+----------+-------+-----------------+-----------+-----------+---------+\n",
      "|Afghanistan|2000|            54.8|          321.0|       62.0| 6532.0|            122.0| 24.0|      24.0|      0.1|                  2.3|Developing|   0.01|              8.2|     114.56|   293756.0|      5.5|\n",
      "|Afghanistan|2001|            55.3|          316.0|       63.0| 8762.0|            122.0| 35.0|      33.0|      0.1|                  2.1|Developing|   0.01|              7.8|  117.49698|  2966463.0|      5.9|\n",
      "|Afghanistan|2002|            56.2|            3.0|       64.0| 2486.0|            122.0| 36.0|      36.0|      0.1|                 19.9|Developing|   0.01|             7.76|  187.84595|2.1979923E7|      6.2|\n",
      "|Afghanistan|2003|            56.7|          295.0|       65.0|  798.0|            122.0| 41.0|      41.0|      0.1|                 19.7|Developing|   0.01|             8.82|198.7285436|  2364851.0|      6.5|\n",
      "|Afghanistan|2004|            57.0|          293.0|       67.0|  466.0|            120.0|  5.0|       5.0|      0.1|                 19.5|Developing|   0.02|             8.79|219.1413528|2.4118979E7|      6.8|\n",
      "|Afghanistan|2005|            57.3|          291.0|       66.0| 1296.0|            118.0| 58.0|      58.0|      0.1|                 19.3|Developing|   0.02|              8.7| 25.2941299|   257798.0|      7.9|\n",
      "|Afghanistan|2006|            57.3|          295.0|       64.0| 1990.0|            116.0| 58.0|      58.0|      0.1|                 19.2|Developing|   0.03|             7.43|  272.56377|  2589345.0|      8.1|\n",
      "|Afghanistan|2007|            57.5|          295.0|       63.0| 1141.0|            113.0| 63.0|      63.0|      0.1|                 19.0|Developing|   0.02|             6.73| 369.835796|2.6616792E7|      8.4|\n",
      "|Afghanistan|2008|            58.1|          287.0|       64.0| 1599.0|            110.0| 64.0|      64.0|      0.1|                 18.8|Developing|   0.03|             8.33|373.3611163|  2729431.0|      8.7|\n",
      "|Afghanistan|2009|            58.6|          281.0|       63.0| 2861.0|            106.0| 63.0|      63.0|      0.1|                 18.6|Developing|   0.01|             9.42|445.8932979|   284331.0|      8.9|\n",
      "|Afghanistan|2010|            58.8|          279.0|       66.0| 1989.0|            102.0| 66.0|      66.0|      0.1|                 18.4|Developing|   0.01|              9.2|  553.32894|  2883167.0|      9.2|\n",
      "|Afghanistan|2011|            59.2|          275.0|       68.0| 3013.0|             97.0| 68.0|      68.0|      0.1|                 18.2|Developing|   0.01|             7.87|  63.537231|  2978599.0|      9.5|\n",
      "|Afghanistan|2012|            59.5|          272.0|       67.0| 2787.0|             93.0| 67.0|      67.0|      0.1|                 17.9|Developing|   0.01|             8.52|    669.959|  3696958.0|      9.8|\n",
      "|Afghanistan|2013|            59.9|          268.0|       64.0|  430.0|             89.0| 62.0|      64.0|      0.1|                 17.7|Developing|   0.01|             8.13| 631.744976|3.1731688E7|      9.9|\n",
      "|Afghanistan|2014|            59.9|          271.0|       62.0|  492.0|             86.0| 58.0|      62.0|      0.1|                 17.5|Developing|   0.01|             8.18| 612.696514|   327582.0|     10.0|\n",
      "|Afghanistan|2015|            65.0|          263.0|       65.0| 1154.0|             83.0|  6.0|      65.0|      0.1|                 17.2|Developing|   0.01|             8.16|  584.25921|3.3736494E7|     10.1|\n",
      "|    Albania|2000|            72.6|           11.0|       96.0|  662.0|              1.0| 97.0|      97.0|      0.1|                  2.1|Developing|   3.66|             6.26|1175.788981|    38927.0|     10.7|\n",
      "|    Albania|2001|            73.6|           14.0|       96.0|   18.0|              1.0| 97.0|      97.0|      0.1|                  2.1|Developing|   4.25|              6.0| 1326.97339|    36173.0|     10.6|\n",
      "|    Albania|2002|            73.3|           15.0|       96.0|   16.0|              1.0| 98.0|      98.0|      0.1|                  2.0|Developing|   3.73|              6.3|1453.642777|     3511.0|     10.7|\n",
      "|    Albania|2003|            72.8|           18.0|       97.0|    8.0|              1.0| 97.0|      97.0|      0.1|                  1.9|Developing|   4.29|             6.27| 189.681557|   339616.0|     10.7|\n",
      "+-----------+----+----------------+---------------+-----------+-------+-----------------+-----+----------+---------+---------------------+----------+-------+-----------------+-----------+-----------+---------+\n",
      "only showing top 20 rows\n",
      "\n"
     ]
    }
   ],
   "source": [
    "dfMerged = dfMerged.sort(\"Country\", \"Year\")\n",
    "dfMerged.show()"
   ]
  },
  {
   "cell_type": "code",
   "execution_count": 22,
   "metadata": {},
   "outputs": [
    {
     "name": "stdout",
     "output_type": "stream",
     "text": [
      "root\n",
      " |-- country: string (nullable = true)\n",
      " |-- year: integer (nullable = true)\n",
      " |-- life-expectancy: double (nullable = true)\n",
      " |-- adult-mortality: double (nullable = true)\n",
      " |-- hepatitis-b: double (nullable = false)\n",
      " |-- measles: double (nullable = true)\n",
      " |-- under-five-deaths: double (nullable = true)\n",
      " |-- polio: double (nullable = false)\n",
      " |-- diphtheria: double (nullable = false)\n",
      " |--  hiv-aids: double (nullable = true)\n",
      " |--  thinness-1-19-years: double (nullable = false)\n",
      " |-- status: string (nullable = true)\n",
      " |-- alcohol: double (nullable = false)\n",
      " |-- total-expenditure: double (nullable = false)\n",
      " |-- gdp: double (nullable = false)\n",
      " |-- population: double (nullable = false)\n",
      " |-- schooling: double (nullable = false)\n",
      "\n"
     ]
    }
   ],
   "source": [
    "dfMerged = dfMerged.toDF(*['country', 'year', 'life-expectancy', 'adult-mortality', 'hepatitis-b', 'measles', \n",
    "                           'under-five-deaths', 'polio', 'diphtheria', ' hiv-aids', ' thinness-1-19-years', \n",
    "                           'status', 'alcohol', 'total-expenditure', 'gdp', 'population', \n",
    "                           'schooling'])\n",
    "dfMerged.printSchema()"
   ]
  },
  {
   "cell_type": "code",
   "execution_count": 23,
   "metadata": {},
   "outputs": [
    {
     "name": "stdout",
     "output_type": "stream",
     "text": [
      "['country', 'year', 'life-expectancy', 'adult-mortality', 'hepatitis-b', 'measles', 'under-five-deaths', 'polio', 'diphtheria', ' hiv-aids', ' thinness-1-19-years', 'status', 'alcohol', 'total-expenditure', 'gdp', 'population', 'schooling']\n"
     ]
    }
   ],
   "source": [
    "print(dfMerged.columns)"
   ]
  },
  {
   "cell_type": "code",
   "execution_count": 24,
   "metadata": {},
   "outputs": [
    {
     "name": "stdout",
     "output_type": "stream",
     "text": [
      "life-expectancy\n",
      "                  Column     Coeff Category\n",
      "0        life-expectancy  1.000000   Strong\n",
      "1        adult-mortality -0.690332   Strong\n",
      "2            hepatitis-b  0.199664   Strong\n",
      "3                measles -0.159843   Strong\n",
      "4      under-five-deaths -0.221951   Strong\n",
      "5                  polio  0.461302   Strong\n",
      "6             diphtheria  0.476581   Strong\n",
      "7               hiv-aids -0.556661   Strong\n",
      "8    thinness-1-19-years -0.339114   Strong\n",
      "9                alcohol  0.392390   Strong\n",
      "10     total-expenditure  0.210886   Strong\n",
      "11                   gdp  0.435316   Strong\n",
      "12            population -0.019846     Weak\n",
      "13             schooling  0.726567   Strong\n"
     ]
    }
   ],
   "source": [
    "columns = dfMerged.drop(*['Year', 'Country', 'Status']).columns\n",
    "correlationMatrix = pd.DataFrame(columns=['Column', 'Coeff', 'Category'])\n",
    "for col1 in columns:\n",
    "    correlation = dfMerged.stat.corr(col1, 'life-expectancy')\n",
    "    cat = 'Strong' if abs(correlation) > 0.1 else 'Weak'\n",
    "    correlationMatrix = correlationMatrix.append({'Column': col1, 'Coeff': correlation, 'Category': cat}, ignore_index=True)\n",
    "print('life-expectancy')\n",
    "print(correlationMatrix)"
   ]
  },
  {
   "cell_type": "code",
   "execution_count": 25,
   "metadata": {},
   "outputs": [
    {
     "name": "stdout",
     "output_type": "stream",
     "text": [
      "['country', 'year', 'life-expectancy', 'adult-mortality', 'hepatitis-b', 'measles', 'under-five-deaths', 'polio', 'diphtheria', ' hiv-aids', ' thinness-1-19-years', 'status', 'alcohol', 'total-expenditure', 'gdp', 'schooling']\n"
     ]
    }
   ],
   "source": [
    "dfMerged = dfMerged.drop(*['population'])\n",
    "print(dfMerged.columns)"
   ]
  },
  {
   "cell_type": "code",
   "execution_count": 26,
   "metadata": {},
   "outputs": [],
   "source": [
    "from pyspark.ml.feature import Bucketizer\n",
    "dfMerged = dfMerged.drop(*['schooling_binned'])\n",
    "splits = [-1.5, 1.5, 4.5, 7.5, 10.5, 13.5, 16.5, 19.5, 22.5]\n",
    "bucketizer = Bucketizer(splits=splits, inputCol=\"schooling\", outputCol=\"schooling_binned\")\n",
    "dfMerged = bucketizer.transform(dfMerged)"
   ]
  },
  {
   "cell_type": "code",
   "execution_count": 27,
   "metadata": {},
   "outputs": [],
   "source": [
    "dfMerged = dfMerged.drop(*['alcohol_binned'])\n",
    "splits = [-8, -5, -2, 1, 4, 7, 10, 13, 16, 19, 22]\n",
    "bucketizer = Bucketizer(splits=splits, inputCol=\"alcohol\", outputCol=\"alcohol_binned\")\n",
    "dfMerged = bucketizer.transform(dfMerged)"
   ]
  },
  {
   "cell_type": "code",
   "execution_count": 28,
   "metadata": {},
   "outputs": [
    {
     "name": "stdout",
     "output_type": "stream",
     "text": [
      "['country', 'year', 'life-expectancy', 'adult-mortality', 'hepatitis-b', 'measles', 'under-five-deaths', 'polio', 'diphtheria', ' hiv-aids', ' thinness-1-19-years', 'status', 'total-expenditure', 'gdp', 'schooling_binned', 'alcohol_binned']\n"
     ]
    }
   ],
   "source": [
    "dfMerged = dfMerged.drop(*['schooling', 'alcohol'])\n",
    "print(dfMerged.columns)"
   ]
  },
  {
   "cell_type": "code",
   "execution_count": 29,
   "metadata": {},
   "outputs": [
    {
     "name": "stdout",
     "output_type": "stream",
     "text": [
      "adult-mortality\n",
      "163.40899725274724\n",
      "122.99388187685773\n",
      "hepatitis-b\n",
      "81.04855248698674\n",
      "22.487562743076367\n",
      "measles\n",
      "2431.809752747253\n",
      "11516.031592203795\n",
      "under-five-deaths\n",
      "41.934065934065934\n",
      "161.10697166058083\n",
      "polio\n",
      "82.63956650731531\n",
      "23.306175119568522\n",
      "diphtheria\n",
      "82.39495429587602\n",
      "23.638027540309373\n",
      " hiv-aids\n",
      "1.7315590659340667\n",
      "5.092939378070892\n",
      " thinness-1-19-years\n",
      "5.69158149773911\n",
      "9.202248682311902\n",
      "total-expenditure\n",
      "5.931317454410123\n",
      "2.3915436398231917\n",
      "gdp\n",
      "7494.210719388654\n",
      "13193.237156034336\n"
     ]
    }
   ],
   "source": [
    "columnsToScale = ['adult-mortality', 'hepatitis-b', 'measles', 'under-five-deaths', 'polio', 'diphtheria', \n",
    "                  ' hiv-aids', ' thinness-1-19-years', 'total-expenditure', 'gdp']\n",
    "for col in columnsToScale:\n",
    "    print(col)\n",
    "    meanCol = dfMerged.agg({col: 'mean'}).collect()[0][0]\n",
    "    stdDiv = dfMerged.agg({col: 'stddev'}).collect()[0][0]\n",
    "    print(meanCol)\n",
    "    print(stdDiv)\n",
    "    newColName = col + '-scaled'\n",
    "    dfMerged = dfMerged.withColumn(newColName, (dfMerged[col] - meanCol) / (stdDiv))"
   ]
  },
  {
   "cell_type": "code",
   "execution_count": 30,
   "metadata": {},
   "outputs": [
    {
     "name": "stdout",
     "output_type": "stream",
     "text": [
      "+-------+----+---------------+------+----------------+--------------+----------------------+------------------+--------------+------------------------+------------+-----------------+----------------+---------------------------+------------------------+----------+\n",
      "|country|year|life-expectancy|status|schooling_binned|alcohol_binned|adult-mortality-scaled|hepatitis-b-scaled|measles-scaled|under-five-deaths-scaled|polio-scaled|diphtheria-scaled| hiv-aids-scaled| thinness-1-19-years-scaled|total-expenditure-scaled|gdp-scaled|\n",
      "+-------+----+---------------+------+----------------+--------------+----------------------+------------------+--------------+------------------------+------------+-----------------+----------------+---------------------------+------------------------+----------+\n",
      "|      0|   0|              0|     0|               0|             0|                     0|                 0|             0|                       0|           0|                0|               0|                          0|                       0|         0|\n",
      "+-------+----+---------------+------+----------------+--------------+----------------------+------------------+--------------+------------------------+------------+-----------------+----------------+---------------------------+------------------------+----------+\n",
      "\n"
     ]
    }
   ],
   "source": [
    "from pyspark.sql.functions import isnan, when, count, col\n",
    "dfMerged = dfMerged.drop(*['adult-mortality', 'hepatitis-b', 'measles', 'under-five-deaths', 'polio', 'diphtheria', \n",
    "                  ' hiv-aids', ' thinness-1-19-years', 'total-expenditure', 'gdp'])\n",
    "dfMerged.select([count(when(isnan(c), c)).alias(c) for c in dfMerged.columns]).show()"
   ]
  },
  {
   "cell_type": "code",
   "execution_count": 31,
   "metadata": {},
   "outputs": [
    {
     "name": "stdout",
     "output_type": "stream",
     "text": [
      "['country', 'year', 'life-expectancy', 'status', 'schooling_binned', 'alcohol_binned', 'adult-mortality-scaled', 'hepatitis-b-scaled', 'measles-scaled', 'under-five-deaths-scaled', 'polio-scaled', 'diphtheria-scaled', ' hiv-aids-scaled', ' thinness-1-19-years-scaled', 'total-expenditure-scaled', 'gdp-scaled']\n"
     ]
    }
   ],
   "source": [
    "print(dfMerged.columns)"
   ]
  },
  {
   "cell_type": "code",
   "execution_count": 32,
   "metadata": {},
   "outputs": [
    {
     "name": "stdout",
     "output_type": "stream",
     "text": [
      "+----------+\n",
      "|    status|\n",
      "+----------+\n",
      "|Developing|\n",
      "|Developing|\n",
      "|Developing|\n",
      "|Developing|\n",
      "|Developing|\n",
      "|Developing|\n",
      "|Developing|\n",
      "|Developing|\n",
      "|Developing|\n",
      "|Developing|\n",
      "|Developing|\n",
      "|Developing|\n",
      "|Developing|\n",
      "|Developing|\n",
      "|Developing|\n",
      "|Developing|\n",
      "|Developing|\n",
      "|Developing|\n",
      "|Developing|\n",
      "|Developing|\n",
      "+----------+\n",
      "only showing top 20 rows\n",
      "\n"
     ]
    }
   ],
   "source": [
    "dfMerged.select('status').show()"
   ]
  },
  {
   "cell_type": "code",
   "execution_count": 33,
   "metadata": {},
   "outputs": [
    {
     "name": "stdout",
     "output_type": "stream",
     "text": [
      "+--------------+\n",
      "|status-encoded|\n",
      "+--------------+\n",
      "|             0|\n",
      "|             0|\n",
      "|             0|\n",
      "|             0|\n",
      "|             0|\n",
      "|             0|\n",
      "|             0|\n",
      "|             0|\n",
      "|             0|\n",
      "|             0|\n",
      "|             0|\n",
      "|             0|\n",
      "|             0|\n",
      "|             0|\n",
      "|             0|\n",
      "|             0|\n",
      "|             0|\n",
      "|             0|\n",
      "|             0|\n",
      "|             0|\n",
      "+--------------+\n",
      "only showing top 20 rows\n",
      "\n"
     ]
    },
    {
     "data": {
      "text/plain": [
       "DataFrame[country: string, year: int, life-expectancy: double, status: string, schooling_binned: double, alcohol_binned: double, adult-mortality-scaled: double, hepatitis-b-scaled: double, measles-scaled: double, under-five-deaths-scaled: double, polio-scaled: double, diphtheria-scaled: double,  hiv-aids-scaled: double,  thinness-1-19-years-scaled: double, total-expenditure-scaled: double, gdp-scaled: double, status-encoded: int]"
      ]
     },
     "execution_count": 33,
     "metadata": {},
     "output_type": "execute_result"
    }
   ],
   "source": [
    "dfMerged = dfMerged.withColumn('status-encoded', (dfMerged['status'] == 'Developed').cast('integer'))\n",
    "dfMerged.select('status-encoded').show()\n",
    "dfMerged.drop(*['statusx '])"
   ]
  },
  {
   "cell_type": "code",
   "execution_count": 37,
   "metadata": {},
   "outputs": [
    {
     "name": "stdout",
     "output_type": "stream",
     "text": [
      "['life-expectancy', 'status', 'schooling_binned', 'alcohol_binned', 'adult-mortality-scaled', 'hepatitis-b-scaled', 'measles-scaled', 'under-five-deaths-scaled', 'polio-scaled', 'diphtheria-scaled', ' hiv-aids-scaled', ' thinness-1-19-years-scaled', 'total-expenditure-scaled', 'gdp-scaled', 'status-encoded']\n"
     ]
    }
   ],
   "source": [
    "dfMerged = dfMerged.drop(*['country', 'year', 'status'])\n",
    "print(dfMerged.columns)"
   ]
  },
  {
   "cell_type": "code",
   "execution_count": 168,
   "metadata": {},
   "outputs": [
    {
     "name": "stdout",
     "output_type": "stream",
     "text": [
      "root\n",
      " |-- life-expectancy: double (nullable = true)\n",
      " |-- status: string (nullable = true)\n",
      " |-- schooling_binned: double (nullable = true)\n",
      " |-- alcohol_binned: double (nullable = true)\n",
      " |-- adult-mortality-scaled: double (nullable = true)\n",
      " |-- hepatitis-b-scaled: double (nullable = true)\n",
      " |-- measles-scaled: double (nullable = true)\n",
      " |-- under-five-deaths-scaled: double (nullable = true)\n",
      " |-- polio-scaled: double (nullable = true)\n",
      " |-- diphtheria-scaled: double (nullable = true)\n",
      " |--  hiv-aids-scaled: double (nullable = true)\n",
      " |--  thinness-1-19-years-scaled: double (nullable = true)\n",
      " |-- total-expenditure-scaled: double (nullable = true)\n",
      " |-- gdp-scaled: double (nullable = true)\n",
      " |-- status-encoded: integer (nullable = true)\n",
      "\n",
      "root\n",
      " |-- life-expectancy: double (nullable = true)\n",
      " |-- status: string (nullable = true)\n",
      " |-- schooling_binned: double (nullable = true)\n",
      " |-- alcohol_binned: double (nullable = true)\n",
      " |-- adult-mortality-scaled: double (nullable = true)\n",
      " |-- hepatitis-b-scaled: double (nullable = true)\n",
      " |-- measles-scaled: double (nullable = true)\n",
      " |-- under-five-deaths-scaled: double (nullable = true)\n",
      " |-- polio-scaled: double (nullable = true)\n",
      " |-- diphtheria-scaled: double (nullable = true)\n",
      " |--  hiv-aids-scaled: double (nullable = true)\n",
      " |--  thinness-1-19-years-scaled: double (nullable = true)\n",
      " |-- total-expenditure-scaled: double (nullable = true)\n",
      " |-- gdp-scaled: double (nullable = true)\n",
      " |-- status-encoded: integer (nullable = true)\n",
      " |-- features: vector (nullable = true)\n",
      "\n"
     ]
    },
    {
     "data": {
      "text/plain": [
       "[Row(life-expectancy=54.8, status='Developing', schooling_binned=2.0, alcohol_binned=2.0, adult-mortality-scaled=1.2812913971203372, hepatitis-b-scaled=-0.8470705653884854, measles-scaled=0.3560419415685281, under-five-deaths-scaled=0.4969737388808753, polio-scaled=-2.516052771699972, diphtheria-scaled=-2.4703818538283904,  hiv-aids-scaled=-0.3203570560763419,  thinness-1-19-years-scaled=-0.3685600786097247, total-expenditure-scaled=0.9486268650140968, gdp-scaled=-0.5593510244764562, status-encoded=0, features=DenseVector([2.0, 2.0, 1.2813, -0.8471, 0.356, 0.497, -2.5161, -2.4704, -0.3204, -0.3686, 0.9486, -0.5594, 0.0]))]"
      ]
     },
     "execution_count": 168,
     "metadata": {},
     "output_type": "execute_result"
    }
   ],
   "source": [
    "from pyspark.ml.linalg import Vectors\n",
    "from pyspark.ml.feature import VectorAssembler\n",
    "\n",
    "dfMerged.printSchema()\n",
    "inputFeatures = ['schooling_binned', 'alcohol_binned', 'adult-mortality-scaled', \n",
    "               'hepatitis-b-scaled', 'measles-scaled', 'under-five-deaths-scaled', 'polio-scaled', \n",
    "               'diphtheria-scaled', ' hiv-aids-scaled', ' thinness-1-19-years-scaled', 'total-expenditure-scaled', \n",
    "               'gdp-scaled', 'status-encoded']\n",
    "# The input columns are the feature column names, and the output column is what you'd like the new column to be named. \n",
    "assembler = VectorAssembler(\n",
    "    inputCols=inputFeatures,\n",
    "    outputCol=\"features\")\n",
    "output = assembler.transform(dfMerged)\n",
    "output.printSchema()\n",
    "output.head(1)"
   ]
  },
  {
   "cell_type": "code",
   "execution_count": 169,
   "metadata": {},
   "outputs": [
    {
     "name": "stdout",
     "output_type": "stream",
     "text": [
      "+--------------------+---------------+\n",
      "|            features|life-expectancy|\n",
      "+--------------------+---------------+\n",
      "|[2.0,2.0,1.281291...|           54.8|\n",
      "|[2.0,2.0,1.240638...|           55.3|\n",
      "|[2.0,2.0,-1.30420...|           56.2|\n",
      "|[2.0,2.0,1.069898...|           56.7|\n",
      "|[2.0,2.0,1.053637...|           57.0|\n",
      "|[3.0,2.0,1.037376...|           57.3|\n",
      "|[3.0,2.0,1.069898...|           57.3|\n",
      "|[3.0,2.0,1.069898...|           57.5|\n",
      "|[3.0,2.0,1.004854...|           58.1|\n",
      "|[3.0,2.0,0.956071...|           58.6|\n",
      "|[3.0,2.0,0.939810...|           58.8|\n",
      "|[3.0,2.0,0.907289...|           59.2|\n",
      "|[3.0,2.0,0.882897...|           59.5|\n",
      "|[3.0,2.0,0.850375...|           59.9|\n",
      "|[3.0,2.0,0.874767...|           59.9|\n",
      "|[3.0,2.0,0.809723...|           65.0|\n",
      "|[4.0,3.0,-1.23915...|           72.6|\n",
      "|[4.0,4.0,-1.21476...|           73.6|\n",
      "|[4.0,3.0,-1.20663...|           73.3|\n",
      "|[4.0,4.0,-1.18224...|           72.8|\n",
      "+--------------------+---------------+\n",
      "only showing top 20 rows\n",
      "\n"
     ]
    }
   ],
   "source": [
    "finalModelInputs = output.select('features', 'life-expectancy')\n",
    "finalModelInputs.show()"
   ]
  },
  {
   "cell_type": "code",
   "execution_count": 170,
   "metadata": {},
   "outputs": [],
   "source": [
    "from pyspark.ml.regression import LinearRegression\n",
    "model = LinearRegression(labelCol='life-expectancy')"
   ]
  },
  {
   "cell_type": "code",
   "execution_count": 171,
   "metadata": {},
   "outputs": [
    {
     "name": "stdout",
     "output_type": "stream",
     "text": [
      "+-------+-----------------+\n",
      "|summary|  life-expectancy|\n",
      "+-------+-----------------+\n",
      "|  count|             2015|\n",
      "|   mean|69.50818858560798|\n",
      "| stddev|9.205887188731305|\n",
      "|    min|             36.3|\n",
      "|    max|             89.0|\n",
      "+-------+-----------------+\n",
      "\n",
      "+-------+-----------------+\n",
      "|summary|  life-expectancy|\n",
      "+-------+-----------------+\n",
      "|  count|              897|\n",
      "|   mean|68.92463768115942|\n",
      "| stddev|9.956144095663904|\n",
      "|    min|             39.0|\n",
      "|    max|             89.0|\n",
      "+-------+-----------------+\n",
      "\n"
     ]
    }
   ],
   "source": [
    "train_data,test_data = finalModelInputs.randomSplit([0.7,0.3])\n",
    "\n",
    "train_data.describe().show()\n",
    "test_data.describe().show()"
   ]
  },
  {
   "cell_type": "code",
   "execution_count": 172,
   "metadata": {},
   "outputs": [
    {
     "name": "stdout",
     "output_type": "stream",
     "text": [
      "aggregationDepth: suggested depth for treeAggregate (>= 2). (default: 2)\n",
      "elasticNetParam: the ElasticNet mixing parameter, in range [0, 1]. For alpha = 0, the penalty is an L2 penalty. For alpha = 1, it is an L1 penalty. (default: 0.0)\n",
      "featuresCol: features column name. (default: features)\n",
      "fitIntercept: whether to fit an intercept term. (default: True)\n",
      "labelCol: label column name. (default: label, current: life-expectancy)\n",
      "maxIter: max number of iterations (>= 0). (default: 100)\n",
      "predictionCol: prediction column name. (default: prediction)\n",
      "regParam: regularization parameter (>= 0). (default: 0.0)\n",
      "solver: the solver algorithm for optimization. If this is not set or empty, default value is 'auto'. (default: auto)\n",
      "standardization: whether to standardize the training features before fitting the model. (default: True)\n",
      "tol: the convergence tolerance for iterative algorithms (>= 0). (default: 1e-06)\n",
      "weightCol: weight column name. If this is not set or empty, we treat all instance weights as 1.0. (undefined)\n"
     ]
    }
   ],
   "source": [
    "print(model.explainParams())"
   ]
  },
  {
   "cell_type": "code",
   "execution_count": 173,
   "metadata": {},
   "outputs": [],
   "source": [
    "model = model.fit(train_data)"
   ]
  },
  {
   "cell_type": "code",
   "execution_count": 174,
   "metadata": {},
   "outputs": [
    {
     "name": "stdout",
     "output_type": "stream",
     "text": [
      "schooling_binned: 2.531831721385968\n",
      "alcohol_binned: 0.388132840016104\n",
      "adult-mortality-scaled: -2.947233773516361\n",
      "hepatitis-b-scaled: -0.4198538515246137\n",
      "measles-scaled: -0.2201136751274389\n",
      "under-five-deaths-scaled: -0.41661977241907844\n",
      "polio-scaled: 0.8238180676561964\n",
      "diphtheria-scaled: 1.2699219618597593\n",
      " hiv-aids-scaled: -2.443472249095295\n",
      " thinness-1-19-years-scaled: -0.12580509205567508\n",
      "total-expenditure-scaled: 0.41017739769742\n",
      "gdp-scaled: 0.8506772457520726\n",
      "status-encoded: 1.3251672181685445\n"
     ]
    }
   ],
   "source": [
    "i = 0\n",
    "for col in inputFeatures:\n",
    "    print(col + ': ' + str(model.coefficients[i]))\n",
    "    i = i + 1"
   ]
  },
  {
   "cell_type": "code",
   "execution_count": 175,
   "metadata": {},
   "outputs": [
    {
     "name": "stdout",
     "output_type": "stream",
     "text": [
      "R2: 0.7790735324016946\n"
     ]
    }
   ],
   "source": [
    "results = model.evaluate(test_data)\n",
    "print(\"R2: {}\".format(results.r2))"
   ]
  },
  {
   "cell_type": "code",
   "execution_count": 176,
   "metadata": {},
   "outputs": [
    {
     "name": "stdout",
     "output_type": "stream",
     "text": [
      "+-------------------+\n",
      "|          residuals|\n",
      "+-------------------+\n",
      "|-0.6508134800577849|\n",
      "| -2.655537312845013|\n",
      "|-3.9969005901984573|\n",
      "| -4.148566482822282|\n",
      "| -4.058416305569956|\n",
      "| -3.881455715687075|\n",
      "|-1.5971964689630767|\n",
      "|-1.5522888951355895|\n",
      "| 3.2502306371916347|\n",
      "|  1.580441968411023|\n",
      "| 1.7104373671797646|\n",
      "| 1.9480629712895876|\n",
      "| 2.6443568245055076|\n",
      "| 1.2274653422982453|\n",
      "| 1.9082424655163805|\n",
      "| -3.194721175497449|\n",
      "|-3.4516339803538187|\n",
      "| -5.715751153594326|\n",
      "| -6.382536274287048|\n",
      "|-11.165585559441674|\n",
      "+-------------------+\n",
      "only showing top 20 rows\n",
      "\n",
      "RSME: 4.67705881387351\n"
     ]
    }
   ],
   "source": [
    "results.residuals.show()\n",
    "print(\"RSME: {}\".format(results.rootMeanSquaredError))"
   ]
  },
  {
   "cell_type": "code",
   "execution_count": 177,
   "metadata": {},
   "outputs": [
    {
     "name": "stdout",
     "output_type": "stream",
     "text": [
      "+------------------+\n",
      "|        prediction|\n",
      "+------------------+\n",
      "| 57.35081348005779|\n",
      "| 62.55553731284501|\n",
      "| 62.09690059019846|\n",
      "| 61.44856648282228|\n",
      "|61.558416305569956|\n",
      "| 61.18145571568707|\n",
      "| 74.19719646896307|\n",
      "| 74.35228889513559|\n",
      "| 72.84976936280836|\n",
      "| 75.61955803158898|\n",
      "| 72.08956263282023|\n",
      "| 69.35193702871041|\n",
      "|  69.0556431754945|\n",
      "| 73.67253465770176|\n",
      "| 75.89175753448362|\n",
      "| 50.29472117549745|\n",
      "|50.251633980353816|\n",
      "| 53.41575115359433|\n",
      "| 53.78253627428705|\n",
      "|60.765585559441675|\n",
      "+------------------+\n",
      "only showing top 20 rows\n",
      "\n"
     ]
    }
   ],
   "source": [
    "results.predictions.select('prediction').show()"
   ]
  },
  {
   "cell_type": "code",
   "execution_count": 178,
   "metadata": {},
   "outputs": [
    {
     "name": "stdout",
     "output_type": "stream",
     "text": [
      "Mean Absolute Error: 3.495041655872656\n"
     ]
    }
   ],
   "source": [
    "print(\"Mean Absolute Error: {}\".format(results.meanAbsoluteError))"
   ]
  },
  {
   "cell_type": "code",
   "execution_count": 179,
   "metadata": {},
   "outputs": [
    {
     "name": "stdout",
     "output_type": "stream",
     "text": [
      "Feature: 0, schooling_binned, Score: 2.53183\n",
      "Feature: 1, alcohol_binned, Score: 0.38813\n",
      "Feature: 2, adult-mortality-scaled, Score: -2.94723\n",
      "Feature: 3, hepatitis-b-scaled, Score: -0.41985\n",
      "Feature: 4, measles-scaled, Score: -0.22011\n",
      "Feature: 5, under-five-deaths-scaled, Score: -0.41662\n",
      "Feature: 6, polio-scaled, Score: 0.82382\n",
      "Feature: 7, diphtheria-scaled, Score: 1.26992\n",
      "Feature: 8,  hiv-aids-scaled, Score: -2.44347\n",
      "Feature: 9,  thinness-1-19-years-scaled, Score: -0.12581\n",
      "Feature: 10, total-expenditure-scaled, Score: 0.41018\n",
      "Feature: 11, gdp-scaled, Score: 0.85068\n",
      "Feature: 12, status-encoded, Score: 1.32517\n"
     ]
    },
    {
     "data": {
      "text/plain": [
       "<BarContainer object of 13 artists>"
      ]
     },
     "execution_count": 179,
     "metadata": {},
     "output_type": "execute_result"
    },
    {
     "data": {
      "image/png": "[encoded data removed]",
      "text/plain": [
       "<Figure size 432x288 with 1 Axes>"
      ]
     },
     "metadata": {},
     "output_type": "display_data"
    }
   ],
   "source": [
    "import matplotlib.pyplot as plt\n",
    "for i,v in enumerate(model.coefficients.values):\n",
    "\tprint('Feature: %d, %s, Score: %.5f' % (i, inputFeatures[i],v))\n",
    "plt.barh([inputFeatures[x] for x in range(len(model.coefficients))], abs(model.coefficients.values))"
   ]
  },
  {
   "cell_type": "code",
   "execution_count": 180,
   "metadata": {},
   "outputs": [
    {
     "data": {
      "text/plain": [
       "<BarContainer object of 13 artists>"
      ]
     },
     "execution_count": 180,
     "metadata": {},
     "output_type": "execute_result"
    },
    {
     "data": {
      "image/png": "[encoded data removed]",
      "text/plain": [
       "<Figure size 432x288 with 1 Axes>"
      ]
     },
     "metadata": {},
     "output_type": "display_data"
    }
   ],
   "source": [
    "plt.barh([inputFeatures[x] for x in range(len(model.coefficients))], abs(model.coefficients.values))"
   ]
  },
  {
   "cell_type": "code",
   "execution_count": 195,
   "metadata": {
    "scrolled": true
   },
   "outputs": [
    {
     "name": "stdout",
     "output_type": "stream",
     "text": [
      "[2. 3. 4. 5. 6. 7. 8.]\n"
     ]
    },
    {
     "ename": "TypeError",
     "evalue": "unexpected item type: <class 'pandas.core.series.Series'>",
     "output_type": "error",
     "traceback": [
      "\u001b[0;31m---------------------------------------------------------------------------\u001b[0m",
      "\u001b[0;31mTypeError\u001b[0m                                 Traceback (most recent call last)",
      "\u001b[0;32m<ipython-input-195-debec97cf2cf>\u001b[0m in \u001b[0;36m<module>\u001b[0;34m()\u001b[0m\n\u001b[1;32m      4\u001b[0m \u001b[0myList\u001b[0m \u001b[0;34m=\u001b[0m \u001b[0;34m[\u001b[0m\u001b[0;34m]\u001b[0m\u001b[0;34m\u001b[0m\u001b[0m\n\u001b[1;32m      5\u001b[0m \u001b[0;32mfor\u001b[0m \u001b[0mi\u001b[0m \u001b[0;32min\u001b[0m \u001b[0mrangeOfBins\u001b[0m\u001b[0;34m:\u001b[0m\u001b[0;34m\u001b[0m\u001b[0m\n\u001b[0;32m----> 6\u001b[0;31m     \u001b[0mmeanLE\u001b[0m \u001b[0;34m=\u001b[0m \u001b[0mdf\u001b[0m\u001b[0;34m[\u001b[0m\u001b[0mpandasDf\u001b[0m\u001b[0;34m[\u001b[0m\u001b[0;34m'schooling_binned'\u001b[0m\u001b[0;34m]\u001b[0m \u001b[0;34m==\u001b[0m \u001b[0mi\u001b[0m\u001b[0;34m]\u001b[0m\u001b[0;34m[\u001b[0m\u001b[0;34m'life-expectancy'\u001b[0m\u001b[0;34m]\u001b[0m\u001b[0;34m.\u001b[0m\u001b[0mmean\u001b[0m\u001b[0;34m(\u001b[0m\u001b[0;34m)\u001b[0m\u001b[0;34m\u001b[0m\u001b[0m\n\u001b[0m\u001b[1;32m      7\u001b[0m     \u001b[0myList\u001b[0m\u001b[0;34m.\u001b[0m\u001b[0mappend\u001b[0m\u001b[0;34m(\u001b[0m\u001b[0mmeanLE\u001b[0m\u001b[0;34m)\u001b[0m\u001b[0;34m\u001b[0m\u001b[0m\n\u001b[1;32m      8\u001b[0m \u001b[0mplt\u001b[0m\u001b[0;34m.\u001b[0m\u001b[0mplot\u001b[0m\u001b[0;34m(\u001b[0m\u001b[0mrangeOfBins\u001b[0m\u001b[0;34m,\u001b[0m \u001b[0myList\u001b[0m\u001b[0;34m)\u001b[0m\u001b[0;34m\u001b[0m\u001b[0m\n",
      "\u001b[0;32m~/spark-2.1.1-bin-hadoop2.7/python/pyspark/sql/dataframe.py\u001b[0m in \u001b[0;36m__getitem__\u001b[0;34m(self, item)\u001b[0m\n\u001b[1;32m    960\u001b[0m             \u001b[0;32mreturn\u001b[0m \u001b[0mColumn\u001b[0m\u001b[0;34m(\u001b[0m\u001b[0mjc\u001b[0m\u001b[0;34m)\u001b[0m\u001b[0;34m\u001b[0m\u001b[0m\n\u001b[1;32m    961\u001b[0m         \u001b[0;32melse\u001b[0m\u001b[0;34m:\u001b[0m\u001b[0;34m\u001b[0m\u001b[0m\n\u001b[0;32m--> 962\u001b[0;31m             \u001b[0;32mraise\u001b[0m \u001b[0mTypeError\u001b[0m\u001b[0;34m(\u001b[0m\u001b[0;34m\"unexpected item type: %s\"\u001b[0m \u001b[0;34m%\u001b[0m \u001b[0mtype\u001b[0m\u001b[0;34m(\u001b[0m\u001b[0mitem\u001b[0m\u001b[0;34m)\u001b[0m\u001b[0;34m)\u001b[0m\u001b[0;34m\u001b[0m\u001b[0m\n\u001b[0m\u001b[1;32m    963\u001b[0m \u001b[0;34m\u001b[0m\u001b[0m\n\u001b[1;32m    964\u001b[0m     \u001b[0;34m@\u001b[0m\u001b[0msince\u001b[0m\u001b[0;34m(\u001b[0m\u001b[0;36m1.3\u001b[0m\u001b[0;34m)\u001b[0m\u001b[0;34m\u001b[0m\u001b[0m\n",
      "\u001b[0;31mTypeError\u001b[0m: unexpected item type: <class 'pandas.core.series.Series'>"
     ]
    }
   ],
   "source": []
  },
  {
   "cell_type": "code",
   "execution_count": null,
   "metadata": {},
   "outputs": [],
   "source": []
  }
 ],
 "metadata": {
  "kernelspec": {
   "display_name": "Python 3",
   "language": "python",
   "name": "python3"
  },
  "language_info": {
   "codemirror_mode": {
    "name": "ipython",
    "version": 3
   },
   "file_extension": ".py",
   "mimetype": "text/x-python",
   "name": "python",
   "nbconvert_exporter": "python",
   "pygments_lexer": "ipython3",
   "version": "3.5.2"
  }
 },
 "nbformat": 4,
 "nbformat_minor": 2
}
